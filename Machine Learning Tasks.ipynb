{
 "cells": [
  {
   "cell_type": "markdown",
   "metadata": {},
   "source": [
    "# Assessment 1:\n",
    "## Get the square root of 2 and display to 100 decimal places\n",
    "\n",
    "### Issue\n",
    "\n",
    "Number of characters that can be displayed, and how to calculate the the square root of 2 to 100 decimal places.\n",
    "\n",
    "### Option 1: Newton Raphson method\n",
    "\n",
    "There are various options for calculating the square root of 2. The most well known is the probably the Newton Raphson method, which is similar to the Babylonian method. This method can take a small number of iterations to produce a 100 digit answer.\n",
    "\n",
    "The method divides the number whose square root is to be found (*Number* in this case 2) by a starting number (*zStart*, initial value of 1). The resultant is then added back to zStart, and then the whole number is divided by 2. This process continues until the difference between the zStart number, and the previous zStart number (*xRoot*) is less than 1 divided by 100 to the power of 100 (i.e. there is less than digit difference at 200 decimal places)."
   ]
  },
  {
   "cell_type": "code",
   "execution_count": 57,
   "metadata": {
    "scrolled": false
   },
   "outputs": [
    {
     "name": "stdout",
     "output_type": "stream",
     "text": [
      "Square root 2 to 100 decimal places (Newton-Raphson method): \n",
      " 1.4142135623730949234300169337075203657150268554687500000000000000000000000000000000000000000000000000\n",
      "\n",
      "Steps required to run the Newton-Raphson method to get to 100 decimal places: 6\n",
      "\n",
      "Time taken to run the Newton-Raphson method : 0:00:00\n"
     ]
    }
   ],
   "source": [
    "import datetime as dt\n",
    "\n",
    "Time_1 = dt.datetime.now()\n",
    "\n",
    "Number = 2\n",
    "bStart = 1                                                                  # Start value is 1\n",
    "zStart = 1                                                                  # Start value is 1 (x0)\n",
    "cFinal = 0                                                                  # Variable to continue/end while loop\n",
    "\n",
    "aCount = 0                                                                  # Iteration count\n",
    "yNewNum = 0                                                                 # New value of estimate (x1)\n",
    "xRoot = 0                                                                   # Used to transfer values between yNewNum and zStart\n",
    "\n",
    "while cFinal != 1:                                                          # While the difference between zStart and yNewNum is greater than 0.0000001 (7 decimal places)\n",
    "    yNewNum = (zStart + (Number / zStart)) / 2                              # x1 = (x0 + (S/x0)) / 2 \n",
    "    zStart = yNewNum                                                        # Replace the value x0 with the value of x1\n",
    "    yNewNum = xRoot                                                         # Replace the value of x1 with the transfer value\n",
    "\n",
    "    if abs(((zStart - xRoot) / zStart)) < (1/(100**100)):                   # When there is no significant change in the 100^100 decimal place\n",
    "        cFinal = 1                                                          # Switch off continuance veriable\n",
    "          \n",
    "    xRoot = zStart                                                          # Replace the transfer value with x0\n",
    "\n",
    "    aCount += 1                                                             # aCount iterates by 1\n",
    "\n",
    "Time_2 = dt.datetime.now()\n",
    "\n",
    "print()\n",
    "print(\"Ne\")\n",
    "print(\"Square root 2 to 100 decimal places (Newton-Raphson method): \\n %.100f\" % zStart)\n",
    "print()\n",
    "print(\"Steps required to run the Newton-Raphson method to get to 100 decimal places: %d\" % aCount)\n",
    "print()\n",
    "print(\"Time taken to run the Newton-Raphson method :\", (Time_2-Time_1))\n"
   ]
  },
  {
   "cell_type": "markdown",
   "metadata": {},
   "source": [
    "#### Issue with the Newton-Raphson method\n",
    "\n",
    "The calculated Newton-Raphson method diverges from the \"official\" NASA version after 17 decimal places, where the method returns 0949 instead od 0950. This is due to issues within Python, where floats do not generally display more than 17 decimal places, even if they hold more.\n",
    "\n",
    "Additionally, event when the variables hold more than 17 decimal places, they cannot hold more than 50 decimal places. This results in all the digits after the 50th decimal place being printed as 0. This can be seen in the above print out, when the float was specified at 100 decimal places. This issue can be resolved by using imported libraries, which can force more decimal places to be held. However that was not allowed by the rules of the assignment."
   ]
  },
  {
   "cell_type": "markdown",
   "metadata": {},
   "source": [
    "### Option 3: Subtraction method\n",
    "Source: http://www.afjarvis.staff.shef.ac.uk/maths/jarvisspec02.pdf\n",
    "https://www.mathblog.dk/project-euler-80-digits-irrational-square-roots/\n",
    "\n",
    "Square Roots by Subtraction\n",
    "FRAZER JARVIS\n",
    "pages 119 - 122\n",
    "Mathematical Spectrum 2004/2005 Volume 37 Number 3\n",
    "\n",
    "Japanese approach. Slower than Newton-Raphson.\n",
    "Newton-Raphson takes 8 steps to run, in near instaneous time.\n",
    "Subtraction method takes 576 iterations, and up to 500ths of a second to run"
   ]
  },
  {
   "cell_type": "code",
   "execution_count": 58,
   "metadata": {},
   "outputs": [
    {
     "name": "stdout",
     "output_type": "stream",
     "text": [
      "Square root 2 to 100 decimal places:\n",
      "1.4142135623730950488016887242096980785696718753769480731766797379907324784621070388503875343276415727\n"
     ]
    }
   ],
   "source": [
    "def sub_root(a, b):                                     # Create a function to import values of a and b.\n",
    "    while len(str(b)) <= 102:                           # While the string length of b is less than 101 (1 integter, plus the 101 significant decimal place).\n",
    "\n",
    "        if a >= b:                                      # If input \"a\" is greater than or equal input \"b\".\n",
    "            a = a - b                                   # Set value of \"a\" to be \"a\" minus \"b\".\n",
    "            b = b + 10                                  # Set value of \"b\" to be \"b\" + 10.\n",
    "\n",
    "        elif a < b:                                     # If input \"a\" is less than input \"b\".\n",
    "            a = a * 100                                 # Multiply \"a\" by 100.\n",
    "            c = len(str(b))-1                           # Set the value \"c\" to be the string length of \"b\" minus 1.\n",
    "            d = str(b)                                  # Set the value \"d\" to be the string \"b\".\n",
    "            e = int(d[:c] + \"0\" + d[c:])                # Set the value of \"e\" to be the first \"c\" number of characters of the string \"d\".\n",
    "                                                        # concatenated with a \"0\" and finished with the last digit of the string \"d\".\n",
    "            b = e                                       # Set the value of \"b\" to be the same as \"e\".\n",
    "\n",
    "        return sub_root(a, b)                           # Return the value to the function to reprocess.\n",
    "\n",
    "    return b                                            # Return the value for \"b\" when the above while loop is completed.\n",
    "\n",
    "Number = 2                                              # Number whose square root is to be determined.\n",
    "SQRT = str(sub_root(Number * 5, 5))                     # Set the value of \"SQRT\" to be the string extracted from the function \"sub_root\".\n",
    "formatted_SQRT = f'{SQRT[0]}.{SQRT[1:101]}'             # Set the value of \"format_SQRT to be the value of \"SQRT\" with a decimal place after the 1st digit in the string.\n",
    "print(\"Square root 2 to 100 decimal places:\")           # Print out the text.\n",
    "print(formatted_SQRT)                                   # Print the value of \"format_SQRT\" to 100 decimal places."
   ]
  },
  {
   "cell_type": "markdown",
   "metadata": {},
   "source": [
    "Actual square root of 2:\n",
    "\n",
    "1.4142135623730950488016887242096980785696718753769480731766797379907324784621070388503875343276415727\n",
    "\n",
    "https://apod.nasa.gov/htmltest/gifcity/sqrt2.1mil\n",
    "The Square Root of Two to 1 Million Digits\n",
    "Robert Nemiroff and Jerry Bonnell \n"
   ]
  },
  {
   "cell_type": "code",
   "execution_count": 59,
   "metadata": {},
   "outputs": [
    {
     "name": "stdout",
     "output_type": "stream",
     "text": [
      "475\n"
     ]
    }
   ],
   "source": [
    "def sum_digits(digit):\n",
    "    return sum(int(x) for x in digit if x.isdigit())\n",
    "\n",
    "print(sum_digits(SQRT[:100]))\n",
    "\n",
    "# https://stackoverflow.com/a/14550071/11485706\n",
    "# Óscar López\n",
    "# Jan 27 '13 at 17:32"
   ]
  },
  {
   "cell_type": "markdown",
   "metadata": {},
   "source": [
    "https://projecteuler.net/problem=80\n",
    "\n",
    "Square root digital expansion\n",
    "Show HTML problem content \n",
    "Problem 80\n",
    "\n",
    "It is well known that if the square root of a natural number is not an integer, then it is irrational. The decimal expansion of such square roots is infinite without any repeating pattern at all.\n",
    "\n",
    "The square root of two is 1.41421356237309504880..., and the digital sum of the first one hundred decimal digits is 475.\n",
    "\n",
    "For the first one hundred natural numbers, find the total of the digital sums of the first one hundred decimal digits for all the irrational square roots."
   ]
  },
  {
   "cell_type": "markdown",
   "metadata": {},
   "source": [
    "1.14 Decimals, Floats, and Floating Point Arithmetic. http://anh.cs.luc.edu/python/hands-on/3.1/handsonHtml/float.html\n",
    "Hands-on-Python Tutorial\n",
    "© Copyright 2019, Dr. Andrew N. Harrington. Last updated on Jan 05, 2020. Created using Sphinx 1.3.1+.\n",
    "October 3rd, 2020"
   ]
  },
  {
   "cell_type": "markdown",
   "metadata": {},
   "source": [
    "15. Floating Point Arithmetic: Issues and Limitations\n",
    "The Python Tutorial\n",
    "© Copyright 2001-2020, Python Software Foundation.\n",
    "The Python Software Foundation is a non-profit corporation. Please donate.\n",
    "\n",
    "Oct 08, 2020"
   ]
  },
  {
   "cell_type": "markdown",
   "metadata": {},
   "source": [
    "Period of the Continued Fraction of √n\n",
    "Marius Beceanu\n",
    "February 5, 2003\n",
    "https://web.archive.org/web/20151221205104/http://web.math.princeton.edu/mathlab/jr02fall/Periodicity/mariusjp.pdf\n",
    "\n",
    "https://apod.nasa.gov/htmltest/gifcity/sqrt2.1mil"
   ]
  },
  {
   "cell_type": "code",
   "execution_count": 60,
   "metadata": {},
   "outputs": [
    {
     "name": "stdout",
     "output_type": "stream",
     "text": [
      "\n",
      "Difference between NASA calualtions and Newton-Raphson method is:  -2.220446049250313e-16\n",
      "Percentage difference between NASA calualtions and Newton-Raphson method is: 0.00000000000001570092%\n",
      "\n",
      "Difference between NASA calualtions and Newton-Raphson method is:  0.0\n",
      "Percentage difference between NASA calualtions and Newton-Raphson method is: 0.00000000000000000000%\n"
     ]
    }
   ],
   "source": [
    "# NASA calculated square root of 2\n",
    "\n",
    "NASA = 1.4142135623730950488016887242096980785696718753769480731766797379907324784621070388503875343276415727\n",
    "\n",
    "Calc_SQRT = float(formatted_SQRT)\n",
    "\n",
    "print()\n",
    "print(\"Difference between NASA calualtions and Newton-Raphson method is: \", (zStart - NASA))\n",
    "print(\"Percentage difference between NASA calualtions and Newton-Raphson method is: %.20f%%\" % (((NASA - zStart) / NASA) * 100))\n",
    "\n",
    "print()\n",
    "print(\"Difference between NASA calualtions and Newton-Raphson method is: \", (Calc_SQRT - NASA))\n",
    "print(\"Percentage difference between NASA calualtions and Newton-Raphson method is: %.20f%%\" % (((NASA - Calc_SQRT) / NASA) * 100))"
   ]
  },
  {
   "cell_type": "markdown",
   "metadata": {},
   "source": [
    "# Assessment 2:\n",
    "## Calculate the Chi-squared test for independence for the given table"
   ]
  },
  {
   "cell_type": "markdown",
   "metadata": {},
   "source": [
    "### What is Chi-Squared testing for independence\n",
    "\n",
    "\n",
    "### Assignment\n",
    "\n",
    "#### Source data"
   ]
  },
  {
   "cell_type": "code",
   "execution_count": 61,
   "metadata": {},
   "outputs": [
    {
     "name": "stdout",
     "output_type": "stream",
     "text": [
      "Critical value of Chi squared\n",
      "24.571\n",
      "\n",
      "P-value\n",
      "0.000410\n",
      "\n",
      "Degrees of Freedom\n",
      "6\n",
      "\n",
      "Expected Table\n",
      "[[ 80.53846154  80.53846154 107.38461538  80.53846154]\n",
      " [ 34.84615385  34.84615385  46.46153846  34.84615385]\n",
      " [ 34.61538462  34.61538462  46.15384615  34.61538462]]\n",
      "\n"
     ]
    }
   ],
   "source": [
    "# Script to determine the Chi-squared test results for the given table\n",
    "\n",
    "from scipy import stats as st\n",
    "import numpy as np\n",
    "\n",
    "# Create the lists containing the values for each of the collars\n",
    "WC = [90, 60, 104, 95]                                                  # White Collar\n",
    "BC = [30, 50, 51, 20]                                                   # Blue Colloar\n",
    "NC = [30, 40, 45, 35]                                                   # No Collar\n",
    "\n",
    "# Create the contingency table\n",
    "collars = np.array([WC, BC, NC])                                        # Use the lists to create a 2D array\n",
    "\n",
    "# Return the chi squared values, probability, degrees of freedom, and expected tables\n",
    "chi_sqr_stat, p_val, D_of_F, expect_t = st.chi2_contingency(collars)\n",
    "\n",
    "print(\"Critical value of Chi squared\")\n",
    "print(\"%.3f\" %chi_sqr_stat)\n",
    "print()\n",
    "print(\"P-value\")\n",
    "print(\"%.6f\" %p_val)\n",
    "print()\n",
    "print(\"Degrees of Freedom\")\n",
    "print(D_of_F)\n",
    "print()\n",
    "print(\"Expected Table\")\n",
    "print(expect_t)\n",
    "print()"
   ]
  },
  {
   "cell_type": "code",
   "execution_count": 62,
   "metadata": {},
   "outputs": [
    {
     "name": "stdout",
     "output_type": "stream",
     "text": [
      "At 6 degrees of freedom and a probability of 5%, the critical value is 12.592\n",
      "At 6 degrees of freedom and a probability of 1%, the critical value is 16.812\n"
     ]
    }
   ],
   "source": [
    "# Determine the Critical stat value at two levels of probability\n",
    "\n",
    "probability_1 = 0.05                                                    # Set probability value 1 to 5%\n",
    "probability_2 = 0.01                                                    # Set probability value 2 to 1%\n",
    "\n",
    "critical_stat_1 = st.chi2.ppf(1-probability_1, D_of_F)                  # Calculate the test_stats for 6 degrees of freedom, and 95% confidence\n",
    "critical_stat_2 = st.chi2.ppf(1-probability_2, D_of_F)                  # Calculate the test_stats for 6 degrees of freedom, and 99% confidence\n",
    "\n",
    "print(\"At %.0f degrees of freedom and a probability of %d%%, the critical value is %.3f\" % (D_of_F, (probability_1 * 100), critical_stat_1))\n",
    "print(\"At %.0f degrees of freedom and a probability of %d%%, the critical value is %.3f\" % (D_of_F, (probability_2 * 100), critical_stat_2))"
   ]
  },
  {
   "cell_type": "markdown",
   "metadata": {},
   "source": [
    "### What does this mean?\n",
    "\n",
    "1 P-value: The P-value calculated for the contingency table is 0.000410 (or 0.041%). This value is significantly below the probability vales of 0.05 (5%) and 0.01 (1%), it would suggest that the likelihood of getting such results is extremely unlikely if the null hypothesis is correct. \n",
    "\n",
    "2 Degrees of Freedom: The calculated degrees of freedom is 6, which is the same as the degrees of freedom on the source page.\n",
    "\n",
    "3 Critical stat value: The critical stat  values is calculated as 24.571, and is given as 24.6 on the Wikipedia page. These results are the same, if rounding to only 1 significant decimal place is allowed. However, as noted above the critical stat values for 6 degrees of freedom, and the p-values of 0.05 and 0.01 are 12.592, abd 16.812 respectively. Given that the calculated value is significantly higher than the expected values, it would suggest that the null hypothesis is not valid.\n",
    "\n",
    "### Overall\n",
    "\n",
    "As per the assignment, the calculated critical stats value was found to be the same as the given value (24.571 / 24.6, as per point 3 above). In addition the p-value that was requested is 0.000410 (as per point 1 above).\n",
    "\n",
    "The overall result of the Chi-Squared testing suggests that the null hypothesis (*\"that each person's neighborhood of residence is independent of the person's occupational classification\"*) should be rejected, due to a p-value significantly lower than the probablity limits, and a critical stat value considerably higher than the Chi-Squared distribution tables would allow. As such, the alternative hypothesis *that each person's neighbourhood of residence is dependent on the person's occupational classification* must hold true."
   ]
  },
  {
   "cell_type": "markdown",
   "metadata": {},
   "source": [
    "References:\n",
    "https://reneshbedre.github.io/blog/chisq.html\n",
    "\n",
    "https://en.wikipedia.org/wiki/Chi-squared_test\n",
    "\n",
    "https://docs.scipy.org/doc/scipy/reference/generated/scipy.stats.chisquare.html\n",
    "\n",
    "https://machinelearningmastery.com/chi-squared-test-for-machine-learning/\n",
    "\n",
    "https://towardsdatascience.com/running-chi-square-tests-in-python-with-die-roll-data-b9903817c51b\n",
    "\n",
    "https://www.geeksforgeeks.org/python-pearsons-chi-square-test/\n",
    "\n",
    "https://www.pythonfordatascience.org/chi-square-test-of-independence-python/\n",
    "\n",
    "https://pythonfordatascienceorg.wordpress.com/chi-square-python/\n",
    "\n",
    "https://medium.com/@alok.ranjan4/chi-square-test-using-python-7f8f14731cb\n",
    "\n",
    "https://www.spss-tutorials.com/chi-square-independence-test/"
   ]
  }
 ],
 "metadata": {
  "kernelspec": {
   "display_name": "Python 3",
   "language": "python",
   "name": "python3"
  },
  "language_info": {
   "codemirror_mode": {
    "name": "ipython",
    "version": 3
   },
   "file_extension": ".py",
   "mimetype": "text/x-python",
   "name": "python",
   "nbconvert_exporter": "python",
   "pygments_lexer": "ipython3",
   "version": "3.7.9"
  }
 },
 "nbformat": 4,
 "nbformat_minor": 4
}
