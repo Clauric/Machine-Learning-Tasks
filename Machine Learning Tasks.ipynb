{
 "cells": [
  {
   "cell_type": "markdown",
   "metadata": {
    "extensions": {
     "jupyter_dashboards": {
      "version": 1,
      "views": {
       "grid_default": {},
       "report_default": {
        "hidden": false
       }
      }
     }
    }
   },
   "source": [
    "# Assessment 1:\n",
    "## Get the square root of 2 and display to 100 decimal places\n",
    "\n",
    "### Requirements:\n",
    "Write a Python function called sqrt2 that calculates and prints to the screen the square root of 2 to 100 decimal places. Your code should not depend on any module from the standard library1 or otherwise. You should research the task first and include references and a description of your algorithm.\n",
    "\n",
    "### Issue\n",
    "\n",
    "Number of characters that can be displayed, and how to calculate the the square root of 2 to 100 decimal places.\n",
    "\n",
    "### Option 1: Newton Raphson method\n",
    "\n",
    "There are various options for calculating the square root of 2. The most well known is the probably the Newton Raphson method, which is similar to the Babylonian method. This method can take a small number of iterations to produce a 100 digit answer.\n",
    "\n",
    "The method divides the number whose square root is to be found (*Number* in this case 2) by a starting number (*zStart*, initial value of 1). The resultant is then added back to zStart, and then the whole number is divided by 2. This process continues until the difference between the zStart number, and the previous zStart number (*xRoot*) is less than 1 divided by 100 to the power of 100 (i.e. there is less than digit difference at 200 decimal places)."
   ]
  },
  {
   "cell_type": "code",
   "execution_count": 50,
   "metadata": {
    "extensions": {
     "jupyter_dashboards": {
      "version": 1,
      "views": {
       "grid_default": {},
       "report_default": {
        "hidden": false
       }
      }
     }
    },
    "scrolled": false
   },
   "outputs": [
    {
     "name": "stdout",
     "output_type": "stream",
     "text": [
      "\n",
      "Newton-Raphson Method\n",
      "-----------------------------------------------------------\n",
      "Square root 2 to 100 decimal places (Newton-Raphson method): \n",
      "1.4142135623730949234300169337075203657150268554687500000000000000000000000000000000000000000000000000\n",
      "\n",
      "Steps required to run this to get to 100 decimal places: 6\n",
      "\n",
      "Time taken to run this method: 0:00:00\n"
     ]
    }
   ],
   "source": [
    "import datetime as dt\n",
    "\n",
    "def NR_method(Number):\n",
    "    bStart = 1                                                                  # Start value is 1\n",
    "    zStart = 1                                                                  # Start value is 1 (x0)\n",
    "    cFinal = 0                                                                  # Variable to continue/end while loop\n",
    "\n",
    "    aCount = 0                                                                  # Iteration count\n",
    "    yNewNum = 0                                                                 # New value of estimate (x1)\n",
    "    xRoot = 0                                                                   # Used to transfer values between yNewNum and zStart\n",
    "\n",
    "    while cFinal != 1:                                                          # While the difference between zStart and yNewNum is greater than 0.0000001 (7 decimal places)\n",
    "        yNewNum = (zStart + (Number / zStart)) / 2                              # x1 = (x0 + (S/x0)) / 2 \n",
    "        zStart = yNewNum                                                        # Replace the value x0 with the value of x1\n",
    "        yNewNum = xRoot                                                         # Replace the value of x1 with the transfer value\n",
    "\n",
    "        if abs(((zStart - xRoot) / zStart)) <  (1/(1000**100)):                  # When there is no significant change in the 100^100 decimal place\n",
    "            cFinal = 1                                                          # Switch off continuance veriable\n",
    "            \n",
    "        xRoot = zStart                                                          # Replace the transfer value with x0\n",
    "\n",
    "        aCount += 1                                                             # aCount iterates by 1\n",
    "\n",
    "    return zStart, aCount\n",
    "\n",
    "Time_1 = dt.datetime.now()                                      # Time at the start of the process\n",
    "\n",
    "Number = 2                                                      # Number whose square root is to be determined.\n",
    "\n",
    "NR_SQRT, Iteration = NR_method(Number)                          # Call the NR_method function, and assign the outputs to variables NR_SQRT and Iteration\n",
    "\n",
    "Time_2 = dt.datetime.now()                                      # Time at the end of the process\n",
    "\n",
    "print()\n",
    "print(\"Newton-Raphson Method\")\n",
    "print(\"-----------------------------------------------------------\")\n",
    "print(\"Square root 2 to 100 decimal places (Newton-Raphson method): \\n%.100f\" % NR_SQRT)\n",
    "print()\n",
    "print(\"Steps required to run this to get to 100 decimal places: %d\" % Iteration)\n",
    "print()\n",
    "print(\"Time taken to run this method:\", (Time_2-Time_1))"
   ]
  },
  {
   "cell_type": "markdown",
   "metadata": {
    "extensions": {
     "jupyter_dashboards": {
      "version": 1,
      "views": {
       "grid_default": {},
       "report_default": {
        "hidden": false
       }
      }
     }
    }
   },
   "source": [
    "#### Issue with the Newton-Raphson method\n",
    "\n",
    "The calculated Newton-Raphson method diverges from the \"official\" NASA version after 17 decimal places, where the method returns 0949 instead od 0950. This is due to issues within Python, where floats do not generally display more than 17 decimal places, even if they hold more.\n",
    "\n",
    "Additionally, event when the variables hold more than 17 decimal places, they cannot hold more than 50 decimal places. This results in all the digits after the 50th decimal place being printed as 0. This can be seen in the above print out, when the float was specified at 100 decimal places. This issue can be resolved by using imported libraries, which can force more decimal places to be held. However that was not allowed by the rules of the assignment."
   ]
  },
  {
   "cell_type": "markdown",
   "metadata": {
    "extensions": {
     "jupyter_dashboards": {
      "version": 1,
      "views": {
       "grid_default": {},
       "report_default": {
        "hidden": false
       }
      }
     }
    }
   },
   "source": [
    "### Option 2: Subtraction method\n",
    "\n",
    "This method is an old Japanese method described by <a href =\"http://www.afjarvis.staff.shef.ac.uk/maths/jarvisspec02.pdf\"> Frazer Jarvis</a>. The method involves an involves the use of 2 variables, \"A\" and \"B\". The initial value of the variable \"A\" is 5n (where n is the number for which the square root is being sought). In this case \"A\" would be equal to 10 (5n --> 5 x 2 = 10). The variable \"B\" can be any number, but the most accurate (through trial and error) is 5. \n",
    "\n",
    "The logic behind the method is:\n",
    "\n",
    "    + If A is greater than or equal to B, change the value of A to A - B, and add 10 to B.\n",
    "    + If B is greater than A, multiply A by 100, and place a 0 in the B variable, between the penultimate and final digit.\n",
    "\n",
    "The first iterations of this method, for the square root of 2, would be:\n",
    "\n",
    "    1) A = 10, B = 5  --> A > B  --> A = A - B = 10 - 5 = 5,  B = B + 10 = 5 + 10 = 15\n",
    "    2) A = 5, B = 15  --> A < B  --> A = A x 100 = 5 x 100 = 500,  B = B[0] & \"0\" & B[1] = 1 & 0 & 5 = 105\n",
    "    etc.....\n",
    "\n",
    "Through this subtraction (and multiplication) method, the value of B becomes the square root of the value of n. However, it is still required to place the decimal place in the correct spot."
   ]
  },
  {
   "cell_type": "code",
   "execution_count": 51,
   "metadata": {
    "extensions": {
     "jupyter_dashboards": {
      "version": 1,
      "views": {
       "grid_default": {},
       "report_default": {
        "hidden": false
       }
      }
     }
    },
    "scrolled": true
   },
   "outputs": [
    {
     "name": "stdout",
     "output_type": "stream",
     "text": [
      "\n",
      "Subtraction method\n",
      "-----------------------------------------------------------\n",
      "Square root 2 to 100 decimal places: \n",
      "1.4142135623730950488016887242096980785696718753769480731766797379907324784621070388503875343276415727\n",
      "\n",
      "Steps required to run this method to get to 100 decimal places: 583\n",
      "\n",
      "Time taken to run this method: 0:00:00.000997\n"
     ]
    }
   ],
   "source": [
    "import datetime as dt\n",
    "\n",
    "def sub_root(a, b, Count):                                      # Create a function to import values of a and b.\n",
    "    while len(str(b)) <= 102:                                   # While the string length of b is less than 101 (1 integter, plus the 101 significant decimal place).\n",
    "\n",
    "        if a >= b:                                              # If input \"a\" is greater than or equal input \"b\".\n",
    "            a = a - b                                           # Set value of \"a\" to be \"a\" minus \"b\".\n",
    "            b = b + 10                                          # Set value of \"b\" to be \"b\" + 10.\n",
    "\n",
    "        elif a < b:                                             # If input \"a\" is less than input \"b\".\n",
    "            a = a * 100                                         # Multiply \"a\" by 100.\n",
    "            c = len(str(b))-1                                   # Set the value \"c\" to be the string length of \"b\" minus 1.\n",
    "            d = str(b)                                          # Set the value \"d\" to be the string \"b\".\n",
    "            e = int(d[:c] + \"0\" + d[c:])                        # Set the value of \"e\" to be the first \"c\" number of characters of the string \"d\".\n",
    "                                                                # concatenated with a \"0\" and finished with the last digit of the string \"d\".\n",
    "            b = e                                               # Set the value of \"b\" to be the same as \"e\".\n",
    "\n",
    "        Count += 1                                              # Increment count by 1\n",
    "\n",
    "        return sub_root(a, b, Count)                            # Return the value to the function to reprocess.\n",
    "\n",
    "    return b, Count                                             # Return the values for \"b\" and Count when the above while loop is completed.\n",
    "\n",
    "Time_1 = dt.datetime.now()                                      # Time at the start of the process\n",
    "\n",
    "Number = 2                                                      # Number whose square root is to be determined.\n",
    "\n",
    "SQRT, Count = sub_root(Number * 5, 5, 0)                        # Call the sub_root function, and assign the outputs to variables SQRT and Count\n",
    "SQRT = str(SQRT)                                                # Turn the SQRT variable into a string from an integer\n",
    "formatted_SQRT = f'{SQRT[0]}.{SQRT[1:101]}'                     # Set the value of \"format_SQRT to be the value of \"SQRT\" with a decimal place after the 1st digit in the string.\n",
    "\n",
    "Time_2 = dt.datetime.now()                                      # Time at the end of the process\n",
    "\n",
    "print()\n",
    "print(\"Subtraction method\")\n",
    "print(\"-----------------------------------------------------------\")\n",
    "print(\"Square root 2 to 100 decimal places: \\n%s\" % formatted_SQRT)\n",
    "print()\n",
    "print(\"Steps required to run this method to get to 100 decimal places: %d\" % Count)\n",
    "print()\n",
    "print(\"Time taken to run this method:\", (Time_2-Time_1))"
   ]
  },
  {
   "cell_type": "markdown",
   "metadata": {},
   "source": [
    "#### Notes on approach 2\n",
    "\n",
    "The subraction method has an advantage over the Newton-Raphson method in that the value of B will always be greater than 0. This removes the issue, for Python, of the number of decimal places that can be calculated accurately, or displayed. In addition, by converting the number into a string, and placing a decimal place in the correct location, the method gives the impression of having been calculated by using floating point numbers, but has not been.\n",
    "\n",
    "There are a few issues with this method:\n",
    "\n",
    "1) The method requires the addition of a decimal place in the second position of the string. This is to convert it from 1.4E100 to 1.4..., as is the correct answer. For any number, whose square root is being sought, less than 100, there is no need to amend the code. For numbers greater than 100 there would need to be a change made in order to determine where the decimal place should go.\n",
    "\n",
    "2) The method takes longer, in terms of iterations and time, to get to 100 decimal places than the Newton-Raphson method. A quick comparison between the two shows that it takes the Newton-Raphson method about 0.000000 seconds to run, and only requires 6 iterations of the code. The subratction method takes about 0.001 seconds to run, but requires 583 iterations of the code.\n",
    "\n",
    "3) The function used is a recursive function. After a certain number of recursions, there is a is a risk of stack overflow due to the depth of the recursive function (tail-call). While this can be reduced or eliminated by setting the recursive depth of the stack to be higher than the defaul in Python."
   ]
  },
  {
   "cell_type": "markdown",
   "metadata": {},
   "source": [
    "### Check on the accuracy of the two methods\n",
    "\n",
    "##### NASA\n",
    "It is important to check on the accuracy of the two methods. The quickest methof is to check the value against the known value of the square root of 2. For this we can use the value of the square root of 2, as provided by <a href=\"https://apod.nasa.gov/htmltest/gifcity/sqrt2.1mil\">NASA</a>. As can be seen below for 100 decimal places the Newton-Raphson method, with only 17 decimals displaying accurately, is off by 2.22E-16 (1.5E-13 percent). The subtraction method matches perfectly to 100 decimal places."
   ]
  },
  {
   "cell_type": "code",
   "execution_count": 52,
   "metadata": {
    "extensions": {
     "jupyter_dashboards": {
      "version": 1,
      "views": {
       "grid_default": {},
       "report_default": {
        "hidden": false
       }
      }
     }
    }
   },
   "outputs": [
    {
     "name": "stdout",
     "output_type": "stream",
     "text": [
      "\n",
      "NASA check\n",
      "-----------------------------------------------------------\n",
      "\n",
      "Difference between NASA calcualtions and Newton-Raphson method is:  -2.220446049250313e-16\n",
      "Percentage difference between NASA calcualtions and Newton-Raphson method is: 0.00000000000001570092%\n",
      "\n",
      "Difference between NASA calcualtions and the subtraction method is:  0.0\n",
      "Percentage difference between NASA calcualtions and the subtraction method is: 0.00000000000000000000%\n"
     ]
    }
   ],
   "source": [
    "# NASA calculated square root of 2\n",
    "\n",
    "NASA = 1.4142135623730950488016887242096980785696718753769480731766797379907324784621070388503875343276415727\n",
    "\n",
    "Calc_SQRT = float(formatted_SQRT)\n",
    "\n",
    "print()\n",
    "print(\"NASA check\")\n",
    "print(\"-----------------------------------------------------------\")\n",
    "print()\n",
    "print(\"Difference between NASA calcualtions and Newton-Raphson method is: \", (zStart - NASA))\n",
    "print(\"Percentage difference between NASA calcualtions and Newton-Raphson method is: %.20f%%\" % (((NASA - NR_SQRT) / NASA) * 100))\n",
    "\n",
    "print()\n",
    "print(\"Difference between NASA calcualtions and the subtraction method is: \", (Calc_SQRT - NASA))\n",
    "print(\"Percentage difference between NASA calcualtions and the subtraction method is: %.20f%%\" % (((NASA - Calc_SQRT) / NASA) * 100))"
   ]
  },
  {
   "cell_type": "markdown",
   "metadata": {},
   "source": [
    "## Final note on task 1\n",
    "\n",
    "The issue of the (in)accuracy of floating point numbers, once they go passed the 16th/17th decimal place, can very clearly be seen by the value calculated in the Newton-Raphson method. Without the use of libraries to force the accuracy to the required level, other methods must be found. \n",
    "\n",
    "In this case, the calculation of the value of the square root of 2 using an ever increasing interger, which was then converted to a string resolved the issue. However, this proved to be more time consuming than the Newton-Raphson method, however it was more accurate.\n",
    "\n",
    "An alternative method, that waas not fuly explored in Python (it was in Excel) was to set the initial value of the number to 2E200. This should have resulted in the same outcome as the subrtaction method, with the need to convert to a string and introduce a decimal point. This would have taken 308 iterations (in Excel) to complete."
   ]
  },
  {
   "cell_type": "markdown",
   "metadata": {
    "extensions": {
     "jupyter_dashboards": {
      "version": 1,
      "views": {
       "grid_default": {},
       "report_default": {
        "hidden": false
       }
      }
     }
    }
   },
   "source": [
    "# Bibliography for task 1\n",
    "https://apod.nasa.gov/htmltest/gifcity/sqrt2.1mil The Square Root of Two to 1 Million Digits Robert Nemiroff and Jerry Bonnell\n",
    "\n",
    "Source: http://www.afjarvis.staff.shef.ac.uk/maths/jarvisspec02.pdf https://www.mathblog.dk/project-euler-80-digits-irrational-square-roots/\n",
    "\n",
    "Square Roots by Subtraction FRAZER JARVIS pages 119 - 122 Mathematical Spectrum 2004/2005 Volume 37 Number 3\n",
    "\n",
    "https://projecteuler.net/problem=80\n",
    "\n",
    "Square root digital expansion Show HTML problem content Problem 80\n",
    "\n",
    "It is well known that if the square root of a natural number is not an integer, then it is irrational. The decimal expansion of such square roots is infinite without any repeating pattern at all.\n",
    "\n",
    "The square root of two is 1.41421356237309504880..., and the digital sum of the first one hundred decimal digits is 475.\n",
    "\n",
    "For the first one hundred natural numbers, find the total of the digital sums of the first one hundred decimal digits for all the irrational square roots.\n",
    "\n",
    "1.14 Decimals, Floats, and Floating Point Arithmetic. http://anh.cs.luc.edu/python/hands-on/3.1/handsonHtml/float.html Hands-on-Python Tutorial © Copyright 2019, Dr. Andrew N. Harrington. Last updated on Jan 05, 2020. Created using Sphinx 1.3.1+. October 3rd, 2020\n",
    "\n",
    "Floating Point Arithmetic: Issues and Limitations The Python Tutorial © Copyright 2001-2020, Python Software Foundation. The Python Software Foundation is a non-profit corporation. Please donate.\n",
    "Oct 08, 2020\n",
    "\n",
    "Period of the Continued Fraction of √n Marius Beceanu February 5, 2003 https://web.archive.org/web/20151221205104/http://web.math.princeton.edu/mathlab/jr02fall/Periodicity/mariusjp.pdf\n",
    "\n",
    "https://apod.nasa.gov/htmltest/gifcity/sqrt2.1mil"
   ]
  },
  {
   "cell_type": "markdown",
   "metadata": {
    "extensions": {
     "jupyter_dashboards": {
      "version": 1,
      "views": {
       "grid_default": {},
       "report_default": {
        "hidden": false
       }
      }
     }
    }
   },
   "source": [
    "# Assessment 2:\n",
    "## Calculate the Chi-squared test for independence for the given table\n",
    "\n",
    "### Requirements\n",
    "The Chi-squared test for independence is a statistical hypothesis test like a t-test. It is used to analyse whether two categorical variables are independent. The Wikipedia article gives the table below as an example, stating the Chi-squared value based on it is approximately 24.6. Use scipy.stats to verify this value and calculate the associated p value. You should include a short note with references justifying your analysis in a markdown cell.\n",
    "\n",
    "||A|B|C|D|Total|\n",
    "|:--|:--|:--|:--|:--|:--|\n",
    "|White Collar|90|60|104|95|349|\n",
    "|Blue Collar|30|50|51|20|151|\n",
    "|No Collar|30|40|45|35|150|\n",
    "|Total|150|150|200|150|650|\n",
    "\n",
    "### What is Chi-Squared testing for independence\n"
   ]
  },
  {
   "cell_type": "code",
   "execution_count": 53,
   "metadata": {
    "extensions": {
     "jupyter_dashboards": {
      "version": 1,
      "views": {
       "grid_default": {},
       "report_default": {
        "hidden": false
       }
      }
     }
    }
   },
   "outputs": [
    {
     "name": "stdout",
     "output_type": "stream",
     "text": [
      "Critical value of Chi squared\n",
      "24.571\n",
      "\n",
      "P-value\n",
      "0.000410\n",
      "\n",
      "Degrees of Freedom\n",
      "6\n",
      "\n",
      "Expected Table\n",
      "[[ 80.53846154  80.53846154 107.38461538  80.53846154]\n",
      " [ 34.84615385  34.84615385  46.46153846  34.84615385]\n",
      " [ 34.61538462  34.61538462  46.15384615  34.61538462]]\n",
      "\n"
     ]
    }
   ],
   "source": [
    "# Script to determine the Chi-squared test results for the given table\n",
    "\n",
    "from scipy import stats as st\n",
    "import numpy as np\n",
    "\n",
    "# Create the lists containing the values for each of the collars\n",
    "WC = [90, 60, 104, 95]                                                  # White Collar\n",
    "BC = [30, 50, 51, 20]                                                   # Blue Colloar\n",
    "NC = [30, 40, 45, 35]                                                   # No Collar\n",
    "\n",
    "# Create the contingency table\n",
    "collars = np.array([WC, BC, NC])                                        # Use the lists to create a 2D array\n",
    "\n",
    "# Return the chi squared values, probability, degrees of freedom, and expected tables\n",
    "chi_sqr_stat, p_val, D_of_F, expect_t = st.chi2_contingency(collars)\n",
    "\n",
    "print(\"Critical value of Chi squared\")\n",
    "print(\"%.3f\" %chi_sqr_stat)\n",
    "print()\n",
    "print(\"P-value\")\n",
    "print(\"%.6f\" %p_val)\n",
    "print()\n",
    "print(\"Degrees of Freedom\")\n",
    "print(D_of_F)\n",
    "print()\n",
    "print(\"Expected Table\")\n",
    "print(expect_t)\n",
    "print()"
   ]
  },
  {
   "cell_type": "code",
   "execution_count": null,
   "metadata": {},
   "outputs": [],
   "source": []
  },
  {
   "cell_type": "code",
   "execution_count": 54,
   "metadata": {
    "extensions": {
     "jupyter_dashboards": {
      "version": 1,
      "views": {
       "grid_default": {},
       "report_default": {
        "hidden": false
       }
      }
     }
    }
   },
   "outputs": [
    {
     "name": "stdout",
     "output_type": "stream",
     "text": [
      "At 6 degrees of freedom and a probability of 5%, the critical value is 12.592\n",
      "At 6 degrees of freedom and a probability of 1%, the critical value is 16.812\n"
     ]
    }
   ],
   "source": [
    "# Determine the Critical stat value at two levels of probability\n",
    "\n",
    "probability_1 = 0.05                                                    # Set probability value 1 to 5%\n",
    "probability_2 = 0.01                                                    # Set probability value 2 to 1%\n",
    "\n",
    "critical_stat_1 = st.chi2.ppf(1-probability_1, D_of_F)                  # Calculate the test_stats for 6 degrees of freedom, and 95% confidence\n",
    "critical_stat_2 = st.chi2.ppf(1-probability_2, D_of_F)                  # Calculate the test_stats for 6 degrees of freedom, and 99% confidence\n",
    "\n",
    "print(\"At %.0f degrees of freedom and a probability of %d%%, the critical value is %.3f\" % (D_of_F, (probability_1 * 100), critical_stat_1))\n",
    "print(\"At %.0f degrees of freedom and a probability of %d%%, the critical value is %.3f\" % (D_of_F, (probability_2 * 100), critical_stat_2))"
   ]
  },
  {
   "cell_type": "markdown",
   "metadata": {
    "extensions": {
     "jupyter_dashboards": {
      "version": 1,
      "views": {
       "grid_default": {},
       "report_default": {
        "hidden": false
       }
      }
     }
    }
   },
   "source": [
    "### What does this mean?\n",
    "\n",
    "1) P-value: The P-value calculated for the contingency table is 0.000410 (or 0.041%). This value is significantly below the probability vales of 0.05 (5%) and 0.01 (1%), it would suggest that the likelihood of getting such results is extremely unlikely if the null hypothesis is correct. \n",
    "   \n",
    "2) Degrees of Freedom: The calculated degrees of freedom is 6, which is the same as the degrees of freedom on the source page.\n",
    "\n",
    "3) Critical stat value: The critical stat  values is calculated as 24.571, and is given as 24.6 on the Wikipedia page. These results are the same, if rounding to only 1 significant decimal place is allowed. However, as noted above the critical stat values for 6 degrees of freedom, and the p-values of 0.05 and 0.01 are 12.592, abd 16.812 respectively. Given that the calculated value is significantly higher than the expected values, it would suggest that the null hypothesis is not valid.\n",
    "\n",
    "### Overall\n",
    "\n",
    "As per the assignment, the calculated critical stats value was found to be the same as the given value (24.571 / 24.6, as per point 3 above). In addition the p-value that was requested is 0.000410 (as per point 1 above).\n",
    "\n",
    "The overall result of the Chi-Squared testing suggests that the null hypothesis (*\"that each person's neighborhood of residence is independent of the person's occupational classification\"*) should be rejected, due to a p-value significantly lower than the probablity limits, and a critical stat value considerably higher than the Chi-Squared distribution tables would allow. As such, the alternative hypothesis *that each person's neighbourhood of residence is dependent on the person's occupational classification* must hold true."
   ]
  },
  {
   "cell_type": "markdown",
   "metadata": {
    "extensions": {
     "jupyter_dashboards": {
      "version": 1,
      "views": {
       "grid_default": {},
       "report_default": {
        "hidden": false
       }
      }
     }
    }
   },
   "source": [
    "References:\n",
    "https://reneshbedre.github.io/blog/chisq.html\n",
    "\n",
    "https://en.wikipedia.org/wiki/Chi-squared_test\n",
    "\n",
    "https://docs.scipy.org/doc/scipy/reference/generated/scipy.stats.chisquare.html\n",
    "\n",
    "https://machinelearningmastery.com/chi-squared-test-for-machine-learning/\n",
    "\n",
    "https://towardsdatascience.com/running-chi-square-tests-in-python-with-die-roll-data-b9903817c51b\n",
    "\n",
    "https://www.geeksforgeeks.org/python-pearsons-chi-square-test/\n",
    "\n",
    "https://www.pythonfordatascience.org/chi-square-test-of-independence-python/\n",
    "\n",
    "https://pythonfordatascienceorg.wordpress.com/chi-square-python/\n",
    "\n",
    "https://medium.com/@alok.ranjan4/chi-square-test-using-python-7f8f14731cb\n",
    "\n",
    "https://www.spss-tutorials.com/chi-square-independence-test/"
   ]
  },
  {
   "cell_type": "code",
   "execution_count": null,
   "metadata": {},
   "outputs": [],
   "source": []
  }
 ],
 "metadata": {
  "extensions": {
   "jupyter_dashboards": {
    "activeView": "grid_default",
    "version": 1,
    "views": {
     "grid_default": {
      "cellMargin": 10,
      "defaultCellHeight": 20,
      "maxColumns": 12,
      "name": "grid",
      "type": "grid"
     },
     "report_default": {
      "name": "report",
      "type": "report"
     }
    }
   }
  },
  "kernelspec": {
   "display_name": "Python 3",
   "language": "python",
   "name": "python3"
  },
  "language_info": {
   "codemirror_mode": {
    "name": "ipython",
    "version": 3
   },
   "file_extension": ".py",
   "mimetype": "text/x-python",
   "name": "python",
   "nbconvert_exporter": "python",
   "pygments_lexer": "ipython3",
   "version": "3.7.9"
  }
 },
 "nbformat": 4,
 "nbformat_minor": 4
}
