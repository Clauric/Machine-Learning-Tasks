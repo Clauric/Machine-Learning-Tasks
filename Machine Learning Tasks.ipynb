{
 "cells": [
  {
   "cell_type": "markdown",
   "metadata": {},
   "source": [
    "#### Setups required\n",
    "Before starting, the following code sets the alignment of all tables created in the notebook to align on the left of the cell."
   ]
  },
  {
   "cell_type": "code",
   "execution_count": 34,
   "metadata": {},
   "outputs": [
    {
     "data": {
      "text/html": [
       "<style>\n",
       "  table {margin-left: 0 !important;}\n",
       "</style>\n"
      ],
      "text/plain": [
       "<IPython.core.display.HTML object>"
      ]
     },
     "metadata": {},
     "output_type": "display_data"
    }
   ],
   "source": [
    "%%html\n",
    "<style>\n",
    "  table {margin-left: 0 !important;}\n",
    "</style>"
   ]
  },
  {
   "cell_type": "markdown",
   "metadata": {
    "extensions": {
     "jupyter_dashboards": {
      "version": 1,
      "views": {
       "grid_default": {},
       "report_default": {
        "hidden": false
       }
      }
     }
    }
   },
   "source": [
    "# Assessment 1:\n",
    "## Get the square root of 2 and display to 100 decimal places\n",
    "\n",
    "### Requirements:\n",
    "\n",
    "Write a Python function called sqrt2 that calculates and prints to the screen the square root of 2 to 100 decimal places. Your code should not depend on any module from the standard library1 or otherwise. You should research the task first and include references and a description of your algorithm.\n",
    "\n",
    "### Issue\n",
    "\n",
    "There are two issues to be resolved as part of this assignment:\n",
    "\n",
    "    1) How to display a floating point number accurately to 100 decimal places.\n",
    "    2) How to calculate the square root of a number to 100 decimal places.\n",
    "    \n",
    "#### Display floating point number accurately to 100 decimal places\n",
    "\n",
    "On computers, floating point numbers (numbers with a decimal place) are represented as fractions based on the base 2 (binary). In addition, the current standard for representing floating point numbers is a 64 bit system. Using the IEEE 754 standard (<a href = \"http://www.cs.ucc.ie/~osullb/cs1101/notes/notes31.pdf\">O'Sullivan</a>), the most common representation of the floating point number is where:\n",
    "\n",
    "    1st digit represents the sign of the number (positive or negative).\n",
    "    2nd – 12th digit represents the number before the decimal point (the exponent).\n",
    "    13th – 54th digits represent the numbers after the decimal point (the fraction).\n",
    "\n",
    "The combination of these two issues represent a problem for trying to calculate any number to a degree of accuracy if they cannot be expressed as a binary number. This results in approximation of the value, a high degree, but not perfect accuracy.\n",
    "\n",
    "For example, 0.5$_{10}$ (0.1$_{2}$) can easily be represented as a binary number, using the above standard as:\n",
    "\n",
    "<u><i>0011 1111 0000 0000 0000 0000 0000 0000</i></u> (O'Sullivan)\n",
    "\n",
    "However, the number 0.1$_{10}$ cannot be represented to the same degree of accuracy. Converting 0.1$_{10}$ into base 2 results in:\n",
    "\n",
    "<u><i>0.0001100110011001100110011001100110011001100110011</i></u> (<a href = \"https://www.exploringbinary.com/why-0-point-1-does-not-exist-in-floating-point\">Regan, 2012</a>)\n",
    "\n",
    "When reconverted back into base 10, this results in a value of:\n",
    "\n",
    "<u><i>0.1000000000000000055511151231257827021181583404541015625</i></u> (Regan, 2012)\n",
    "\n",
    "<a href = \"https://people.eecs.berkeley.edu/~wkahan/ieee754status/IEEE754.PDF\">Kahan (1997)</a> notes that in a floating point number, the number of significant decimal places that can be achieved in 15 – 17 (p. 4). In the above base 10 representation, if the number were rounded to 17 decimal places, it becomes:\n",
    "\n",
    "<u><i>0.10000000000000001</i></u> (Regan, 2012)\n",
    "\n",
    "This implies that even though we can calculate a number to up to 50 decimal places, rounding a number to even 17 decimal places will produce a rounding error, and will not return the same number with which we started.\n",
    "\n",
    "Dealing specifically with the square root of two, it is known that it is an irrational number (i.e. the pattern of the numbers does not repeat, unlike the pattern of 0011 in the value of 0.1($_{2}$) (<a href = \"https://www.math.utah.edu/~pa/math/q1.htm\">Alfeld, 1996</a>). Like above, even though the decimal output for the square root of 2 can be shown to approx. 53 decimal places, the rounding issue identified will mean that after about 17 significant digits, the number produced by any method involving floating point numbers will result in inaccuracies. This can be seen in the Newton-Raphson method below.\n"
   ]
  },
  {
   "cell_type": "code",
   "execution_count": 35,
   "metadata": {
    "extensions": {
     "jupyter_dashboards": {
      "version": 1,
      "views": {
       "grid_default": {},
       "report_default": {
        "hidden": false
       }
      }
     }
    },
    "scrolled": false
   },
   "outputs": [
    {
     "name": "stdout",
     "output_type": "stream",
     "text": [
      "\n",
      "Newton-Raphson Method\n",
      "-----------------------------------------------------------\n",
      "Square root 2 to 100 decimal places (Newton-Raphson method): \n",
      "1.4142135623730949234300169337075203657150268554687500000000000000000000000000000000000000000000000000\n",
      "\n",
      "Steps required to run this to get to 100 decimal places: 6\n",
      "\n",
      "Time taken to run this method: 0:00:00\n"
     ]
    }
   ],
   "source": [
    "import datetime as dt                                                           # Only used for calculating speed of function\n",
    "\n",
    "def NR_method(Number):\n",
    "\n",
    "    root = Number / 2                                                           # Set the initial root value at half of the number to be square rooted\n",
    "    Count = 1                                                                   # Count of number of iterations\n",
    "    precision = 10 ** (-15)                                                     # Level of precision required\n",
    "\n",
    "    while abs(Number - root * root) > 10 ** (-15):                              # While the Number less the detrived root is less than the precision\n",
    "\n",
    "        root = (root + Number / root) / 2                                       # Find the new root through the Newton Raphson method\n",
    "        Count += 1                                                              # Increment the count by 1\n",
    "\n",
    "    return root, Count                                                          # Return the root and Count\n",
    "\n",
    "Time_1 = dt.datetime.now()                                                      # Time at the start of the process\n",
    "\n",
    "Number = 2                                                                      # Number whose square root is to be determined.\n",
    "\n",
    "NR_SQRT, Iteration = NR_method(Number)                                          # Call the NR_method function, and assign the outputs to variables NR_SQRT and Iteration\n",
    "\n",
    "Time_2 = dt.datetime.now()                                                      # Time at the end of the process\n",
    "\n",
    "print()\n",
    "print(\"Newton-Raphson Method\")\n",
    "print(\"-----------------------------------------------------------\")\n",
    "print(\"Square root 2 to 100 decimal places (Newton-Raphson method): \\n%.100f\" % NR_SQRT)\n",
    "print()\n",
    "print(\"Steps required to run this to get to 100 decimal places: %d\" % Iteration)\n",
    "print()\n",
    "print(\"Time taken to run this method:\", (Time_2-Time_1))"
   ]
  },
  {
   "cell_type": "markdown",
   "metadata": {
    "extensions": {
     "jupyter_dashboards": {
      "version": 1,
      "views": {
       "grid_default": {},
       "report_default": {
        "hidden": false
       }
      }
     }
    }
   },
   "source": [
    "#### Issue with the Newton-Raphson method\n",
    "\n",
    "The calculated Newton-Raphson method diverges from the \"official\" NASA version after 17 decimal places, where the method returns 0949 instead of 0950. This is due to issues within Python, where floats do not generally display more than 17 decimal places, even if they hold more.\n",
    "\n",
    "Additionally, event when the variables hold more than 17 decimal places, they cannot hold more than 50 decimal places. This results in all the digits after the 50th decimal place being printed as 0. This can be seen in the above print out, when the float was specified at 100 decimal places. This issue can be resolved by using imported libraries, which can force more decimal places to be held. However that was not allowed by the rules of the assignment.\n",
    "\n",
    "### Option 2: Subtraction method\n",
    "\n",
    "This method is an old Japanese method described by <a href =\"http://www.afjarvis.staff.shef.ac.uk/maths/jarvisspec02.pdf\"> Frazer Jarvis</a>. The method involves an involves the use of 2 variables, \"A\" and \"B\". The initial value of the variable \"A\" is 5n (where n is the number for which the square root is being sought). In this case \"A\" would be equal to 10 (5n --> 5 x 2 = 10). The variable \"B\" can be any number, but the most accurate (through trial and error) is 5. \n",
    "\n",
    "The logic behind the method is:\n",
    "\n",
    "    + If A is greater than or equal to B, change the value of A to A - B, and add 10 to B.\n",
    "    + If B is greater than A, multiply A by 100, and place a 0 in the B variable, between the penultimate and final digit.\n",
    "\n",
    "The first 3 iterations of this method, for the square root of 2, would be:\n",
    "\n",
    "    1) A = 10, B = 5  --> A > B  --> A = A - B = 10 - 5 = 5,  B = B + 10 = 5 + 10 = 15\n",
    "    2) A = 5, B = 15  --> A < B  --> A = A x 100 = 5 x 100 = 500,  B = B[0] & \"0\" & B[1] = 1 & 0 & 5 = 105\n",
    "    3) A = 500, B = 105  --> A > B  --> A = A - B = 500 - 105 = 395,  B = B + 10 = 105 + 10 = 115\n",
    "    etc.....\n",
    "\n",
    "Through this subtraction (and multiplication) method, the value of B becomes the square root of the value of n. However, it is still required to place the decimal place in the correct spot."
   ]
  },
  {
   "cell_type": "code",
   "execution_count": 36,
   "metadata": {
    "extensions": {
     "jupyter_dashboards": {
      "version": 1,
      "views": {
       "grid_default": {},
       "report_default": {
        "hidden": false
       }
      }
     }
    },
    "scrolled": true
   },
   "outputs": [
    {
     "name": "stdout",
     "output_type": "stream",
     "text": [
      "\n",
      "Subtraction method\n",
      "-----------------------------------------------------------\n",
      "Square root 2 to 100 decimal places: \n",
      "1.4142135623730950488016887242096980785696718753769480731766797379907324784621070388503875343276415727\n",
      "\n",
      "Steps required to run this method to get to 100 decimal places: 583\n",
      "\n",
      "Time taken to run this method: 0:00:00\n"
     ]
    }
   ],
   "source": [
    "import datetime as dt\n",
    "\n",
    "def sub_root(a, b, Count):                                      # Create a function to import values of a and b.\n",
    "    while len(str(b)) <= 102:                                   # While the string length of b is less than 101 (1 integter, plus the 101 significant decimal place).\n",
    "\n",
    "        if a >= b:                                              # If input \"a\" is greater than or equal input \"b\".\n",
    "            a = a - b                                           # Set value of \"a\" to be \"a\" minus \"b\".\n",
    "            b = b + 10                                          # Set value of \"b\" to be \"b\" + 10.\n",
    "\n",
    "        elif a < b:                                             # If input \"a\" is less than input \"b\".\n",
    "            a = a * 100                                         # Multiply \"a\" by 100.\n",
    "            c = len(str(b))-1                                   # Set the value \"c\" to be the string length of \"b\" minus 1.\n",
    "            d = str(b)                                          # Set the value \"d\" to be the string \"b\".\n",
    "            e = int(d[:c] + \"0\" + d[c:])                        # Set the value of \"e\" to be the first \"c\" number of characters of the string \"d\".\n",
    "                                                                # concatenated with a \"0\" and finished with the last digit of the string \"d\".\n",
    "            b = e                                               # Set the value of \"b\" to be the same as \"e\".\n",
    "\n",
    "        Count += 1                                              # Increment count by 1\n",
    "\n",
    "        return sub_root(a, b, Count)                            # Return the value to the function to reprocess.\n",
    "\n",
    "    return b, Count                                             # Return the values for \"b\" and Count when the above while loop is completed.\n",
    "\n",
    "Time_1 = dt.datetime.now()                                      # Time at the start of the process\n",
    "\n",
    "Number = 2                                                      # Number whose square root is to be determined.\n",
    "\n",
    "SQRT, Count = sub_root(Number * 5, 5, 0)                        # Call the sub_root function, and assign the outputs to variables SQRT and Count\n",
    "SQRT = str(SQRT)                                                # Turn the SQRT variable into a string from an integer\n",
    "formatted_SQRT = f'{SQRT[0]}.{SQRT[1:101]}'                     # Set the value of \"format_SQRT to be the value of \"SQRT\" with a decimal place after the 1st digit in the string.\n",
    "\n",
    "Time_2 = dt.datetime.now()                                      # Time at the end of the process\n",
    "\n",
    "print()\n",
    "print(\"Subtraction method\")\n",
    "print(\"-----------------------------------------------------------\")\n",
    "print(\"Square root 2 to 100 decimal places: \\n%s\" % formatted_SQRT)\n",
    "print()\n",
    "print(\"Steps required to run this method to get to 100 decimal places: %d\" % Count)\n",
    "print()\n",
    "print(\"Time taken to run this method:\", (Time_2-Time_1))"
   ]
  },
  {
   "cell_type": "markdown",
   "metadata": {
    "extensions": {
     "jupyter_dashboards": {
      "version": 1,
      "views": {
       "grid_default": {},
       "report_default": {
        "hidden": false
       }
      }
     }
    }
   },
   "source": [
    "#### Notes on approach 2\n",
    "\n",
    "The subraction method has an advantage over the Newton-Raphson method in that the value of B will always be greater than 0. This removes the issue, for Python, of the number of decimal places that can be calculated accurately, or displayed. In addition, by converting the number into a string, and placing a decimal place in the correct location, the method gives the impression of having been calculated by using floating point numbers, but has not been.\n",
    "\n",
    "There are a few issues with this method:\n",
    "\n",
    "1) The method requires the addition of a decimal place in the second position of the string. This is to convert it from 1.4E100 to 1.4..., as is the correct answer. For any number, whose square root is being sought, less than 100, there is no need to amend the code. For numbers greater than 100 there would need to be a change made in order to determine where the decimal place should go.\n",
    "\n",
    "2) The method takes longer, in terms of iterations and time, to get to 100 decimal places than the Newton-Raphson method. A quick comparison between the two shows that it takes the Newton-Raphson method about 0.000000 seconds to run, and only requires 6 iterations of the code. The subratction method takes about 0.001 seconds to run, but requires 583 iterations of the code.\n",
    "\n",
    "3) The function used is a recursive function. After a certain number of recursions, there is a is a risk of stack overflow due to the depth of the recursive function (tail-call). While this can be reduced or eliminated by setting the recursive depth of the stack to be higher than the default in Python, it is not ideal, and would use up considerably more processing power and storage space than the Netwon-Raphson method.\n",
    "\n",
    "### Check on the accuracy of the two methods\n",
    "\n",
    "##### NASA\n",
    "It is important to check on the accuracy of the two methods. The quickest methof is to check the value against the known value of the square root of 2. For this we can use the value of the square root of 2, as provided by <a href=\"https://apod.nasa.gov/htmltest/gifcity/sqrt2.1mil\">NASA</a>. As can be seen below for 100 decimal places the Newton-Raphson method, with only 17 decimals displaying accurately, is off by 2.22E-16 (1.5E-13%). The subtraction method matches perfectly to 100 decimal places."
   ]
  },
  {
   "cell_type": "code",
   "execution_count": 37,
   "metadata": {
    "extensions": {
     "jupyter_dashboards": {
      "version": 1,
      "views": {
       "grid_default": {},
       "report_default": {
        "hidden": false
       }
      }
     }
    }
   },
   "outputs": [
    {
     "name": "stdout",
     "output_type": "stream",
     "text": [
      "\n",
      "NASA check\n",
      "-----------------------------------------------------------\n",
      "\n",
      "Difference between NASA calcualtions and Newton-Raphson method is:\t\t -2.220446049250313e-16\n",
      "Percentage difference between NASA calcualtions and Newton-Raphson method is: \t 0.00000000000001570092%\n",
      "\n",
      "Difference between NASA calcualtions and the subtraction method is:\t\t 0.0\n",
      "Percentage difference between NASA calcualtions and the subtraction method is: \t 0.00000000000000000000%\n"
     ]
    }
   ],
   "source": [
    "# NASA calculated square root of 2\n",
    "\n",
    "NASA = 1.4142135623730950488016887242096980785696718753769480731766797379907324784621070388503875343276415727\n",
    "\n",
    "Calc_SQRT = float(formatted_SQRT)\n",
    "\n",
    "print()\n",
    "print(\"NASA check\")\n",
    "print(\"-----------------------------------------------------------\")\n",
    "print()\n",
    "print(\"Difference between NASA calcualtions and Newton-Raphson method is:\\t\\t\", (NR_SQRT - NASA))\n",
    "print(\"Percentage difference between NASA calcualtions and Newton-Raphson method is: \\t %.20f%%\" % (((NASA - NR_SQRT) / NASA) * 100))\n",
    "\n",
    "print()\n",
    "print(\"Difference between NASA calcualtions and the subtraction method is:\\t\\t\", (Calc_SQRT - NASA))\n",
    "print(\"Percentage difference between NASA calcualtions and the subtraction method is: \\t %.20f%%\" % (((NASA - Calc_SQRT) / NASA) * 100))"
   ]
  },
  {
   "cell_type": "markdown",
   "metadata": {
    "extensions": {
     "jupyter_dashboards": {
      "version": 1,
      "views": {
       "grid_default": {},
       "report_default": {
        "hidden": false
       }
      }
     }
    }
   },
   "source": [
    "## Final note on task 1\n",
    "\n",
    "The issue of the (in)accuracy of floating point numbers, once they go passed the 16th/17th decimal place, can very clearly be seen by the value calculated in the Newton-Raphson method. Without the use of libraries to force the accuracy to the required level, other methods must be found. \n",
    "\n",
    "In this case, the calculation of the value of the square root of 2 using an ever increasing interger, which was then converted to a string resolved the issue. However, this proved to be more time consuming than the Newton-Raphson method, however it was more accurate.\n",
    "\n",
    "An alternative method, that waas not fuly explored in Python (it was in Excel) was to set the initial value of the number to 2E200. This should have resulted in the same outcome as the subtraction method, with the need to convert to a string and introduce a decimal point. This would have taken 308 iterations (in Excel) to complete.\n",
    "\n",
    "## Bibliography for task 1\n",
    "\n",
    "* Alfeld, P., 1996. Why is the square root of 2 irrational?. [Online] \n",
    "Available at: https://www.math.utah.edu/~pa/math/q1.html\n",
    "[Accessed 11 November 2020].\n",
    "\n",
    "\n",
    "* Beceanu, M., 2003. Period of the Continued Fraction of √. [Online] \n",
    "Available at: http://web.math.princeton.edu/mathlab/jr02fall/Periodicity/mariusjp.pdf\n",
    "[Accessed 11 November 2020].\n",
    "\n",
    "\n",
    "* Harrington, A. N., 2020. 1.14. Decimals, Floats, and Floating Point Arithmetic. [Online] \n",
    "Available at: http://anh.cs.luc.edu/python/hands-on/3.1/handsonHtml/float.html\n",
    "[Accessed 11 November 2020].\n",
    "\n",
    "\n",
    "* Jarvis, F., 2004/2005. Square Roots by Subtraction. Mathematical Spectrum, 37(3), pp. 119 - 122.\n",
    "\n",
    "\n",
    "* Kahan, W., 1997. IEEE Standard 754 for Binary Floating-Point Arithmetic. [Online] \n",
    "Available at: https://people.eecs.berkeley.edu/~wkahan/ieee754status/IEEE754.PDF\n",
    "[Accessed 11 November 2020].\n",
    "\n",
    "\n",
    "* Nemiroff, R. & Bonnell, J., n.d. The Square Root of Two to 1 Million Digits. [Online] \n",
    "Available at: https://apod.nasa.gov/htmltest/gifcity/sqrt2.1mil\n",
    "[Accessed 11 November 2020].\n",
    "\n",
    "\n",
    "* O'Sullivan, B., n.d. http://www.cs.ucc.ie/~osullb/cs1101/notes/notes31.pdf. [Online] \n",
    "Available at: http://www.cs.ucc.ie/~osullb/cs1101/notes/notes31.pdf\n",
    "[Accessed 11th November 2020].\n",
    "\n",
    "\n",
    "* Python Software Foundation, 2020. 15. Floating Point Arithmetic: Issues and Limitations. [Online] \n",
    "Available at: https://docs.python.org/3/tutorial/floatingpoint.html\n",
    "[Accessed 26 November 2020].\n",
    "\n",
    "\n",
    "* Regan, R., 2012. Why 0.1 does not exist in floating=point. [Online] \n",
    "Available at: https://www.exploringbinary.com/why-0-point-1-does-not-exist-in-floating-point/\n",
    "[Accessed 11 November 2020]."
   ]
  },
  {
   "cell_type": "markdown",
   "metadata": {
    "extensions": {
     "jupyter_dashboards": {
      "version": 1,
      "views": {
       "grid_default": {},
       "report_default": {
        "hidden": false
       }
      }
     }
    }
   },
   "source": [
    "# Assessment 2:\n",
    "## Calculate the Chi-squared test for independence for the given table\n",
    "\n",
    "### Requirements\n",
    "The Chi-squared test for independence is a statistical hypothesis test like a t-test. It is used to analyse whether two categorical variables are independent. The <a href = “https://en.wikipedia.org/wiki/Chi-squared_test”> Wikipedia</a> article gives the table below as an example, stating the Chi-squared value based on it is approximately 24.6. Use scipy.stats to verify this value and calculate the associated p value. You should include a short note with references justifying your analysis in a markdown cell.\n",
    "\n",
    "||A|B|C|D|Total|\n",
    "|:--|:--|:--|:--|:--|:--|\n",
    "|White Collar|90|60|104|95|349|\n",
    "|Blue Collar|30|50|51|20|151|\n",
    "|No Collar|30|40|45|35|150|\n",
    "|Total|150|150|200|150|650|\n",
    "\n",
    "### What is Chi-Squared testing for independence?\n",
    "Chi-Squared independence testing is used to determine if <i>“two categorical variables are related in some population”</i> <a href = https://www.spss-tutorials.com/chi-square-independence-test/> (Berg, 2020)</a>. It is an omnibus test, which means that it tests the data as a whole, and does not identify where the exact relationships lie <a href = https://pythonfordatascienceorg.wordpress.com/chi-square-python/> (Python for Data Science, 2020)</a>. This relationship identification would require additional testing after the Chi-Squared resting is complete. Another way of explaining Chi-Squared testing is that it is used to determine whether there is a difference between the expected distribution of a variable and the actual distribution of a variable <a href = https://towardsdatascience.com/running-chi-square-tests-in-python-with-die-roll-data-b9903817c51b> (Huneycutt, 2018)</a>. It is often used to determine if the sample data gathered matches, or it a good fit for the population as a whole <a href = https://www.statisticshowto.com/probability-and-statistics/chi-square/> (Statistics How To, 2020)</a>. In order to use a Chi-squared test, the data should be random, mutally exclusive, and not have been processed <a href = https://www.investopedia.com/terms/c/chi-square-statistic.asp> (Hayes, 2020)</a>.\n",
    "\n",
    "In Chi-Squared testing two hypothesis are made:\n",
    "\n",
    "* <b><u>Null Hypothesis (H$_{0}$)</b></u> that there is no relationship between the two categorical variables.\n",
    "\n",
    "* <b><u>Alternative Hypothesis (H$_{1}$)</b></u> that there is a relationship between the two categorical variables.\n",
    "\n",
    "The Chi-square testing gives three values to help determine whether the null hypothesis is correct. These are:\n",
    "\n",
    "* <b><u>Critical Value<b></u></b> is the area under a normally distributed graph, in which the test statistics are unlikely to be found for a given level of significancce <a href = https://www.itl.nist.gov/div898/handbook/prc/section1/prc131.htm> (NIST/SEMATECH, 2020)</a>.\n",
    "    \n",
    "* <b><u>p-value<b></u></b> tells the tester the probability that the variables being tested are independent.\n",
    "    \n",
    "* <b><u>Degrees of freedom</b></u> is the maximum number of values that are allowed to vary within the test sample <a href = https://www.investopedia.com/terms/d/degrees-of-freedom.asp> (Ganti, 2020)</a>. It is calculated as the number of classes there are in the sample less 1. Where there are multiple rows and columns it is the multiplication of the number of rows (less 1) times the number of columns (less 1) (e.g. for a table with 10 rows, and 8 columns, it would be (10 – 1) x (8 – 1) = 9 x 7 = 63).\n",
    "    \n",
    "Using these values, and a predetermined level of significance (alpha, normally 0.05, or 0.01), it is possible to determine whether the Null hypothesis should be accepted or rejected <a href = https://math.hws.edu/javamath/ryan/ChiSquare.html> (Mathbeans Project, 2020)</a>. Specifically, there are two tests that can be used <a href = “https://machinelearningmastery.com/chi-squared-test-for-machine-learning/” (Brownlee, 2018)</a>:\n",
    "        \n",
    "1)\t<b>p-value <= alpha</b>: a significant result, the variables are dependent, and the null hypothesis can be rejected.\n",
    "\n",
    "2)\t<b>Critical value (calc) >= Critical value (expected)</b>: a significant result, the variables are dependent, and the null hypothesis can be rejected.\n",
    "        \n",
    "The critical value (expected) is derived from the degrees of freedom and the alpha. The Chi-squared distribution table, for up to 7 degrees of freedom, and alphas of 0.1 (10%), 0.05 (5%), and 0.01 (1%) is as follows <a href = https://people.smp.uq.edu.au/YoniNazarathy/stat_models_B_course_spring_07/distributions/chisqtab.pdf>(Nazarathy, 2020)</a>:\n",
    "\n",
    "|Degree of Freedom / alpha|0.1|0.05|0.01|\n",
    "|:--:|--|--|--|\n",
    "|1|2.71|3.84|6.93|\n",
    "|2|4.61|5.99|9.21|\n",
    "|3|6.25|7.81|11.34|\n",
    "|4|7.78|9.49|13.28|\n",
    "|5|9.24|11.07|15.09|\n",
    "|6|10.64|12.59|16.81|\n",
    "|7|12.02|14.07|18.48|\n",
    "\n"
   ]
  },
  {
   "cell_type": "code",
   "execution_count": 38,
   "metadata": {
    "extensions": {
     "jupyter_dashboards": {
      "version": 1,
      "views": {
       "grid_default": {},
       "report_default": {
        "hidden": false
       }
      }
     }
    }
   },
   "outputs": [
    {
     "name": "stdout",
     "output_type": "stream",
     "text": [
      "Critical value (calculated) of the table is: 24.571\n",
      "\n",
      "p-value: 0.000410\n",
      "\n",
      "Degrees of Freedom: 6\n",
      "\n",
      "For the degrees of freedom calculated for the table, the expected critical values are:\n",
      "At 6 degrees of freedom and a alpha of 5%, the critical value is 12.592.\n",
      "At 6 degrees of freedom and a alpha of 1%, the critical value is 16.812.\n"
     ]
    }
   ],
   "source": [
    "# Script to determine the Chi-squared test results for the given table\n",
    "\n",
    "from scipy import stats as st\n",
    "import numpy as np\n",
    "\n",
    "# Create the lists containing the values for each of the collars\n",
    "WC = [90, 60, 104, 95]                                                  # White Collar\n",
    "BC = [30, 50, 51, 20]                                                   # Blue Colloar\n",
    "NC = [30, 40, 45, 35]                                                   # No Collar\n",
    "\n",
    "# Create the contingency table\n",
    "collars = np.array([WC, BC, NC])                                        # Use the lists to create a 2D array\n",
    "\n",
    "# Return the chi squared values, probability, degrees of freedom, and expected tables\n",
    "chi_sqr_stat, p_val, D_of_F, expect_t = st.chi2_contingency(collars)\n",
    "\n",
    "print(\"Critical value (calculated) of the table is: %.3f\" % chi_sqr_stat)\n",
    "print()\n",
    "print(\"p-value: %.6f\" % p_val)\n",
    "print()\n",
    "print(\"Degrees of Freedom:\", D_of_F)\n",
    "print()\n",
    "\n",
    "# Determine the Critical stat value at two levels of probability\n",
    "\n",
    "probability_1 = 0.05                                                    # Set probability value 1 to 5%\n",
    "probability_2 = 0.01                                                    # Set probability value 2 to 1%\n",
    "\n",
    "critical_stat_1 = st.chi2.ppf(1-probability_1, D_of_F)                  # Calculate the test_stats for 6 degrees of freedom, and 95% confidence\n",
    "critical_stat_2 = st.chi2.ppf(1-probability_2, D_of_F)                  # Calculate the test_stats for 6 degrees of freedom, and 99% confidence\n",
    "\n",
    "print(\"For the degrees of freedom calculated for the table, the expected critical values are:\")\n",
    "print(\"At %.0f degrees of freedom and a alpha of %d%%, the critical value is %.3f.\" % (D_of_F, (probability_1 * 100), critical_stat_1))\n",
    "print(\"At %.0f degrees of freedom and a alpha of %d%%, the critical value is %.3f.\" % (D_of_F, (probability_2 * 100), critical_stat_2))"
   ]
  },
  {
   "cell_type": "markdown",
   "metadata": {
    "extensions": {
     "jupyter_dashboards": {
      "version": 1,
      "views": {
       "grid_default": {},
       "report_default": {
        "hidden": false
       }
      }
     }
    }
   },
   "source": [
    "### What does this mean?\n",
    "\n",
    "1) <b><u>p-value</b></u>: The p-value calculated for the contingency table is 0.000410 (or 0.041%). This value is significantly below both alpha values of 0.05 (5%) and 0.01 (1%), it would suggest that the likelihood of getting such results randomly is extremely unlikely if the null hypothesis is correct. \n",
    "   \n",
    "2) <b><u>Degrees of Freedom</b></u>: The calculated degrees of freedom is 6, which is the same as the degrees of freedom on the source page.\n",
    "\n",
    "3) <b><u>Critical stat value</b></u>: The critical stat  values (calculated) is calculated as 24.571, and is given as 24.6 on the Wikipedia page. These results are the same, if the values are rounded to only 1 significant decimal. However, as noted above the critical stat values for 6 degrees of freedom, and the alpha values of 0.05 and 0.01, are 12.592, and 16.812 respectively. Given that the calculated value is significantly higher than the expected values, it would suggest that the null hypothesis is not valid.\n",
    "\n",
    "### Overall\n",
    "\n",
    "As per the assignment, the calculated critical stats value was found to be the same as the given value (24.571 / 24.6, as per point 3 above). In addition the p-value that was requested is 0.000410 (as per point 1 above).\n",
    "\n",
    "The overall result of the Chi-squared testing suggests that the null hypothesis (*\"that each person's neighborhood of residence is independent of the person's occupational classification\"*) should be rejected, due to a p-value significantly lower than the alpha values, and a critical stat value (calculated) is considerably higher than the Chi-squared distribution tables would allow. As such, the alternative hypothesis *that each person's neighbourhood of residence is dependent on the person's occupational classification* must hold true.\n",
    "\n",
    "## Bibliography for task 2\n",
    "\n",
    "* Bedre, R., 2019. Chi-square test in Python. [Online]\n",
    "Available at: https://reneshbedre.github.io/blog/chisq.html\n",
    "[Accessed 26 November 2020].\n",
    "\n",
    "\n",
    "* Berg, R. G. v. d., 2020. Chi-Square Independence Test – What and Why?. [Online] \n",
    "Available at: https://www.spss-tutorials.com/chi-square-independence-test/\n",
    "[Accessed 26 November 2020].\n",
    "\n",
    "\n",
    "* Brownlee, J., 2018. A Gentle Introduction to the Chi-Squared Test for Machine Learning. [Online] \n",
    "Available at: https://machinelearningmastery.com/chi-squared-test-for-machine-learning/\n",
    "[Accessed 26 November 2020].\n",
    "\n",
    "\n",
    "* Ganti, A., 2020. Degrees of Freedom. [Online] Available at: https://www.investopedia.com/terms/d/degrees-of-freedom.asp\n",
    "[Accessed 26 November 2020].\n",
    "\n",
    "* Geeks for Geeks, 2020. Python – Pearson’s Chi-Square Test. [Online] \n",
    "Available at: https://www.geeksforgeeks.org/python-pearsons-chi-square-test/\n",
    "[Accessed 26 November 2020].\n",
    "\n",
    "\n",
    "* Hayes, A., 2020. What Is a Chi-Square Statistic?. [Online] \n",
    "Available at: https://www.investopedia.com/terms/c/chi-square-statistic.asp\n",
    "[Accessed 26 November 2020].\n",
    "\n",
    "\n",
    "* Huneycutt, J., 2018. Running Chi-Square Tests with Die Roll Data in Python. [Online] \n",
    "Available at: https://towardsdatascience.com/running-chi-square-tests-in-python-with-die-roll-data-b9903817c51b\n",
    "[Accessed 26 November 2020].\n",
    "\n",
    "\n",
    "* Mathbeans Project, 2020. The Chi Square Statistic. [Online] \n",
    "Available at: https://math.hws.edu/javamath/ryan/ChiSquare.html\n",
    "[Accessed 26 November 2020].\n",
    "\n",
    "\n",
    "* MathsIsFun.com, 2020. Chi-Square Test. [Online] \n",
    "Available at: https://www.mathsisfun.com/data/chi-square-test.html\n",
    "[Accessed 26 November 2020].\n",
    "\n",
    "\n",
    "* Nazarathy, Y., 2020. Chi-square Distribution Table. [Online] \n",
    "Available at: https://people.smp.uq.edu.au/YoniNazarathy/stat_models_B_course_spring_07/distributions/chisqtab.pdf\n",
    "[Accessed 26 November 2020].\n",
    "\n",
    "\n",
    "* NIST/SEMATECH, 2020. 7.1.3.1. Critical values and p values. [Online] \n",
    "Available at: https://www.itl.nist.gov/div898/handbook/prc/section1/prc131.htm\n",
    "[Accessed 26 November 2020].\n",
    "\n",
    "\n",
    "* Python for Data Science, 2020. Chi-square. [Online] \n",
    "Available at: https://pythonfordatascienceorg.wordpress.com/chi-square-python/\n",
    "[Accessed 26 November 2020].\n",
    "\n",
    "\n",
    "* Python for Data Science, 2020. Chi-Square Test of Independence. [Online] \n",
    "Available at: https://www.pythonfordatascience.org/chi-square-test-of-independence-python/\n",
    "[Accessed 26 November 2020].\n",
    "\n",
    "\n",
    "* Ranjan, A., 2019. Chi-Square Test Using Python. [Online] \n",
    "Available at: https://medium.com/@alok.ranjan4/chi-square-test-using-python-7f8f14731cb\n",
    "[Accessed 26 November 2020].\n",
    "\n",
    "\n",
    "* SciPy.org, 2020. scipy.stats.chisquare. [Online] \n",
    "Available at: https://docs.scipy.org/doc/scipy/reference/generated/scipy.stats.chisquare.html\n",
    "[Accessed 26 November 2020].\n",
    "\n",
    "\n",
    "* Statistics How To, 2020. Chi-Square Statistic: How to Calculate It / Distribution. [Online] \n",
    "Available at: https://www.statisticshowto.com/probability-and-statistics/chi-square/\n",
    "[Accessed 26 November 2020].\n",
    "\n",
    "\n",
    "* Wikipedia.org, 2020. Chi-squared test. [Online] \n",
    "Available at: https://en.wikipedia.org/wiki/Chi-squared_test\n",
    "[Accessed 5 November 2020]."
   ]
  },
  {
   "cell_type": "markdown",
   "metadata": {
    "extensions": {
     "jupyter_dashboards": {
      "version": 1,
      "views": {
       "grid_default": {},
       "report_default": {
        "hidden": false
       }
      }
     }
    }
   },
   "source": [
    "# Assessment 3:\n",
    "## Standard deviation - population vs sample variation\n",
    "\n",
    "### Requirements\n",
    "The standard deviation of an array of numbers x is calculated using numpy as np.sqrt(np.sum((x - np.mean(x))**2)/len(x)). However, Microsoft Excel has two different versions of the standard deviation calculation, STDEV.P and STDEV.S. The STDEV.P function performs the above calculation but in the STDEV.S calculation the division is by len(x)-1 rather than len(x). \n",
    "\n",
    "Research these Excel functions, writing a note in a Markdown cell about the difference between them. Then use numpy to perform a simulation demonstrating that the STDEV.S calculation is a better estimate for the standard deviation of a population when performed on a sample.\n",
    "\n",
    "### What is standard deviation?\n",
    "Standard deviation (σ) is the measure of how spread a set of values is from the mean (average) of those values. The lower the value of the standard deviation, the closer the spread of values is to the mean, while a higher standard deviation indicates that the values are more dispersed from the mean.\n",
    "\n",
    "As standard deviation is the square root of the variance, it is necessary to calculate the variance ($σ^2$). The variance can be calculated as the average of the sum of the square of differences between the values and the mean <a href = https://www.investopedia.com/ask/answers/021215/what-difference-between-standard-deviation-and-variance.asp> (Investopedia.com, 2020)</a>. Mathematically it can be expressed as <a href = https://www.khanacademy.org/math/statistics-probability/summarizing-quantitative-data/variance-standard-deviation-sample/a/population-and-sample-standard-deviation-review>(Khan Academy, 2020)</a>:\n",
    "\n",
    "$σ = \\sqrt{\\frac{1}{N}\\sum_{i=1}^N \\left(x_i - {μ}\\right)^2}$\n",
    "\n",
    "Where:\n",
    "* σ = standard deviation of the population.\n",
    "* $x_i$ = value of each point in the population.\n",
    "* μ = mean of the population.\n",
    "* N = size of the population.\n",
    "\n",
    "In a normally distributed population, the Empirical Rule states approximately 68% of the values being measured should fall within 1 standard deviation from the mean <a href = https://www.investopedia.com/terms/e/empirical-rule.asp> (Hayes, 2020) </a>. The actual value is 68.26% of values falling within 1 standard deviation of the mean, 34.13% on either side <a href = https://www.le.ac.uk/oerresources/ssds/numeracyskills/page_17.htm> (University of Leicester, 2020)</a>. In non-normally distributed sets, the standard deviation can be used when the mean and median are close to each other <a href =  http://statisticalanalysisconsulting.com/statistical-measures-of-spread/> (Flom, 2020)</a>.\n",
    "\n",
    "### Population vs sample\n",
    "When measuring variation and standard deviation within a set of data, it is necessary to distinguish between whether the data is the whole population, or a sample of the whole population <a href = http://statisticalanalysisconsulting.com/statistical-measures-of-spread/> (Laerd Statistics, 2020)</a>. As an example, if a lecturer were to determine the standard deviation of the class’s result after a test, then the standard deviation to be used would be the population standard deviation. This is due to the class being the whole population being measured.\n",
    "\n",
    "However, when the population becomes too large to measure, such as the population of a country, then a sample of the population is taken as a representation of the entire population. This approach would be taken when compiling opinion polls in the run up to general elections, as it is not possible to poll everybody until the actual election.\n",
    "\n",
    "The only difference between the population (σ) and sample (s) standard deviation, when they are being calculated, is that the population standard deviation uses the entire population (N) as the denominator when calculating the variance. The sample standard deviation uses n-1 as the denominator, where n is the size of the sample <a href = https://socratic.org/questions/what-is-the-difference-between-the-population-standard-deviation-and-the-sample-> (K., 2015)</a>. This difference is known as Bessel’s Correction <a href = https://towardsdatascience.com/the-reasoning-behind-bessels-correction-n-1-eeea25ec9bc9> (Hall, 2020)</a>. This leads to the sample standard deviation being given as:\n",
    "\n",
    "$s = \\sqrt{\\frac{1}{n-1}\\sum_{i=1}^N\\left(x_i - \\bar{x}\\right)^2}$\n",
    "\n",
    "Where:\n",
    "* s = standard deviation of the sample.\n",
    "* $x_i$ = value of each point in the sample.\n",
    "* $\\bar{x}$ = mean of the sample.\n",
    "* n-1 = size of the sample.\n",
    "\n",
    "### Better estimate?\n",
    "The size of the sample will always be smaller than the population being sampled. As such, the variance and standard deviation will be more heavily impacted by the presence of values that are further from the mean (Hall, 2020). The use of Bessel’s Correction is viewed as a way of correct for this bias, and produce a better estimate of the actual standard deviation. It should be noted that this correction works well when the sample standard deviation is below the population standard deviation (when known) <a href = https://www.statisticshowto.com/bessels-correction/> (Stephanie, 2018)</a>. However, it will result in a sample standard deviation that is further from the population standard deviation when the sample standard deviation is higher than the population standard deviation (Hall, 2020). This will be shown when the code (see sample standard deviation for data set 50, below) is run.\n",
    "\n",
    "### Excel\n",
    "Microsoft’s Excel uses the same methods of calculating the population and standard deviations as outlined above. As an example, the following sample values are taken from a population, where the mean is 0, and the population standard deviation is 1.\n",
    "\n",
    "|Row|Values|Mean|(Variances|\n",
    "|:--|--:|--:|--:|\n",
    "|1|-0.977278|0.3054|1.645192|\n",
    "|2|0.950088|0.3054|0.415658|\n",
    "|3|-0.151357|0.3054|0.208602|\n",
    "|4|-0.103219|0.3054|0.166947|\n",
    "|5|0.410599|0.3054|0.011072|\n",
    "|6|0.144044|0.3054|0.026027|\n",
    "|7|1.454274|0.3054|1.319973|\n",
    "|8|0.761038|0.3054|0.207631|\n",
    "|9|0.121675|0.3054|0.033745|\n",
    "|10|0.443863|0.3054|0.019180|\n",
    "\n",
    "\n",
    "||Population|Sample|\n",
    "|:--|:--:|:--:|\n",
    "|Sample size|10|10|\n",
    "|Denominator (N, n – 1)|10|9|\n",
    "|Sum of variances|4.054028|4.054028|\n",
    "|Ave. of variances|0.405403|0.450448|\n",
    "|Standard deviation|0.636712|0.671154|\n",
    "|Excel standard deviation|0.636712|0.671154|\n",
    "|Difference between calculated and Excel standard deviation|0|0|\n",
    "|Difference from actual standard deviation|-0.36329|-0.32885|\n",
    "\n",
    "#### Note:\n",
    "This is the same 10 variable data set used in the calculations below.\n",
    "\n",
    "As can be seen, there is no difference between the defined method of calculating standard deviation for both sample and population standard deviation, and the way that Excel does the same calculations."
   ]
  },
  {
   "cell_type": "code",
   "execution_count": 39,
   "metadata": {
    "extensions": {
     "jupyter_dashboards": {
      "version": 1,
      "views": {
       "grid_default": {},
       "report_default": {
        "hidden": false
       }
      }
     }
    },
    "scrolled": false
   },
   "outputs": [
    {
     "name": "stdout",
     "output_type": "stream",
     "text": [
      "+------------------------------------------------------------+------------+-----------+\n",
      "|                                                            | Population |   Sample  |\n",
      "+------------------------------------------------------------+------------+-----------+\n",
      "|                        Sample size                         |     5      |     5     |\n",
      "|                   Denominator (N, n - 1)                   |     5      |     4     |\n",
      "|                     Ave. of variances                      |  0.444551  |  0.555688 |\n",
      "|                     Standard deviation                     |  0.666746  |  0.745445 |\n",
      "|                 Known population deviation                 |     1      |     1     |\n",
      "| Difference between calculated and known standard deviation | -0.333254  | -0.254555 |\n",
      "+------------------------------------------------------------+------------+-----------+\n",
      "Sample standard deviation formula is a better estimator of the actual population statand deviation, for this sample.\n",
      "______________________________________________________________________________________________________________________________\n",
      "\n",
      "\n",
      "+------------------------------------------------------------+------------+-----------+\n",
      "|                                                            | Population |   Sample  |\n",
      "+------------------------------------------------------------+------------+-----------+\n",
      "|                        Sample size                         |     10     |     10    |\n",
      "|                   Denominator (N, n - 1)                   |     10     |     9     |\n",
      "|                     Ave. of variances                      |  0.405403  |  0.450448 |\n",
      "|                     Standard deviation                     |  0.636712  |  0.671154 |\n",
      "|                 Known population deviation                 |     1      |     1     |\n",
      "| Difference between calculated and known standard deviation | -0.363288  | -0.328846 |\n",
      "+------------------------------------------------------------+------------+-----------+\n",
      "Sample standard deviation formula is a better estimator of the actual population statand deviation, for this sample.\n",
      "______________________________________________________________________________________________________________________________\n",
      "\n",
      "\n",
      "+------------------------------------------------------------+------------+----------+\n",
      "|                                                            | Population |  Sample  |\n",
      "+------------------------------------------------------------+------------+----------+\n",
      "|                        Sample size                         |     50     |    50    |\n",
      "|                   Denominator (N, n - 1)                   |     50     |    49    |\n",
      "|                     Ave. of variances                      |  1.052418  | 1.073896 |\n",
      "|                     Standard deviation                     |  1.025874  | 1.03629  |\n",
      "|                 Known population deviation                 |     1      |    1     |\n",
      "| Difference between calculated and known standard deviation |  0.025874  | 0.03629  |\n",
      "+------------------------------------------------------------+------------+----------+\n",
      "Population standard deviation formula is a better estimator of the actual population standard deviation, for this sample.\n",
      "______________________________________________________________________________________________________________________________\n",
      "\n",
      "\n",
      "+------------------------------------------------------------+------------+-----------+\n",
      "|                                                            | Population |   Sample  |\n",
      "+------------------------------------------------------------+------------+-----------+\n",
      "|                        Sample size                         |    100     |    100    |\n",
      "|                   Denominator (N, n - 1)                   |    100     |     99    |\n",
      "|                     Ave. of variances                      |  0.986872  |  0.99684  |\n",
      "|                     Standard deviation                     |  0.993414  |  0.998419 |\n",
      "|                 Known population deviation                 |     1      |     1     |\n",
      "| Difference between calculated and known standard deviation | -0.006586  | -0.001581 |\n",
      "+------------------------------------------------------------+------------+-----------+\n",
      "Sample standard deviation formula is a better estimator of the actual population statand deviation, for this sample.\n",
      "______________________________________________________________________________________________________________________________\n",
      "\n",
      "\n",
      "+------------------------------------------------------------+------------+-----------+\n",
      "|                                                            | Population |   Sample  |\n",
      "+------------------------------------------------------------+------------+-----------+\n",
      "|                        Sample size                         |    1000    |    1000   |\n",
      "|                   Denominator (N, n - 1)                   |    1000    |    999    |\n",
      "|                     Ave. of variances                      |  0.943448  |  0.944392 |\n",
      "|                     Standard deviation                     |  0.971312  |  0.971798 |\n",
      "|                 Known population deviation                 |     1      |     1     |\n",
      "| Difference between calculated and known standard deviation | -0.028688  | -0.028202 |\n",
      "+------------------------------------------------------------+------------+-----------+\n",
      "Sample standard deviation formula is a better estimator of the actual population statand deviation, for this sample.\n",
      "______________________________________________________________________________________________________________________________\n",
      "\n",
      "\n",
      "+------------------------------------------------------------+------------+-----------+\n",
      "|                                                            | Population |   Sample  |\n",
      "+------------------------------------------------------------+------------+-----------+\n",
      "|                        Sample size                         |   10000    |   10000   |\n",
      "|                   Denominator (N, n - 1)                   |   10000    |    9999   |\n",
      "|                     Ave. of variances                      |  0.981319  |  0.981417 |\n",
      "|                     Standard deviation                     |  0.990616  |  0.990665 |\n",
      "|                 Known population deviation                 |     1      |     1     |\n",
      "| Difference between calculated and known standard deviation | -0.009384  | -0.009335 |\n",
      "+------------------------------------------------------------+------------+-----------+\n",
      "Sample standard deviation formula is a better estimator of the actual population statand deviation, for this sample.\n",
      "______________________________________________________________________________________________________________________________\n",
      "\n",
      "\n",
      "+------------------------------------------------------------+------------+-----------+\n",
      "|                                                            | Population |   Sample  |\n",
      "+------------------------------------------------------------+------------+-----------+\n",
      "|                        Sample size                         |   100000   |   100000  |\n",
      "|                   Denominator (N, n - 1)                   |   100000   |   99999   |\n",
      "|                     Ave. of variances                      |  0.996847  |  0.996857 |\n",
      "|                     Standard deviation                     |  0.998422  |  0.998427 |\n",
      "|                 Known population deviation                 |     1      |     1     |\n",
      "| Difference between calculated and known standard deviation | -0.001578  | -0.001573 |\n",
      "+------------------------------------------------------------+------------+-----------+\n",
      "Sample standard deviation formula is a better estimator of the actual population statand deviation, for this sample.\n",
      "______________________________________________________________________________________________________________________________\n",
      "\n",
      "\n",
      "+------------------------------------------------------------+------------+----------+\n",
      "|                                                            | Population |  Sample  |\n",
      "+------------------------------------------------------------+------------+----------+\n",
      "|                        Sample size                         |  1000000   | 1000000  |\n",
      "|                   Denominator (N, n - 1)                   |  1000000   |  999999  |\n",
      "|                     Ave. of variances                      |   0.9997   | 0.999701 |\n",
      "|                     Standard deviation                     |  0.99985   | 0.99985  |\n",
      "|                 Known population deviation                 |     1      |    1     |\n",
      "| Difference between calculated and known standard deviation |  -0.00015  | -0.00015 |\n",
      "+------------------------------------------------------------+------------+----------+\n",
      "Sample standard deviation formula is a better estimator of the actual population statand deviation, for this sample.\n",
      "______________________________________________________________________________________________________________________________\n",
      "\n",
      "\n"
     ]
    },
    {
     "name": "stdout",
     "output_type": "stream",
     "text": [
      "+------------------------------------------------------------+------------+-----------+\n",
      "|                                                            | Population |   Sample  |\n",
      "+------------------------------------------------------------+------------+-----------+\n",
      "|                        Sample size                         |  10000000  |  10000000 |\n",
      "|                   Denominator (N, n - 1)                   |  10000000  |  9999999  |\n",
      "|                     Ave. of variances                      |  0.999364  |  0.999364 |\n",
      "|                     Standard deviation                     |  0.999682  |  0.999682 |\n",
      "|                 Known population deviation                 |     1      |     1     |\n",
      "| Difference between calculated and known standard deviation | -0.000318  | -0.000318 |\n",
      "+------------------------------------------------------------+------------+-----------+\n",
      "Sample standard deviation formula is a better estimator of the actual population statand deviation, for this sample.\n",
      "______________________________________________________________________________________________________________________________\n",
      "\n",
      "\n"
     ]
    }
   ],
   "source": [
    "import numpy as np \n",
    "from numpy import random\n",
    "import pandas as pd\n",
    "import datetime as dt\n",
    "from prettytable import PrettyTable\n",
    "\n",
    "np.random.seed(0)                                                               # Set the randomness seed in order to get the same results each time\n",
    "\n",
    "# Function to determine the stample and population standard deviation of any sample size\n",
    "def std_list(values_list, size):\n",
    "\n",
    "    mean_of_values_list = np.mean(values_list)                                  # Determine the mean of the list (should be zero, but will vary depending on the sample selected)\n",
    "    \n",
    "    Pop_Var = np.sum(((values_list - mean_of_values_list)**2) / size)           # Determine the average population variance.\n",
    "    Sam_Var = np.sum(((values_list - mean_of_values_list)**2) / (size- 1))      # Determine the average sample variance.\n",
    "\n",
    "    Pop_Std = np.sqrt(Pop_Var)                                                  # Determine the population standard deviation as the square root of the sum of the variances, divided by the sample size\n",
    "    Sam_Std = np.sqrt(Sam_Var)                                                  # Determine the sample standard deviation as the square root of the sum of the variances, divided by the sample size - 1\n",
    "    \n",
    "    table_create(values_list, Pop_Std, Sam_Std, Pop_Var, Sam_Var)               # Pass values to te table_create function\n",
    "\n",
    "    return Pop_Std, Sam_Std                                                     # Return the population and sample standard deviation\n",
    "\n",
    "# Function to create a table using PrettyTable\n",
    "def table_create(values_list, Pop_Std, Sam_Std, Pop_Var, Sam_Var):              \n",
    "    table = PrettyTable([\"\",\"Population\",\"Sample\"])\n",
    "    table.add_row([\"Sample size\", len(values_list), len(values_list)])\n",
    "    table.add_row([\"Denominator (N, n - 1)\", len(values_list), len(values_list)-1])\n",
    "    table.add_row([\"Ave. of variances\", round(Pop_Var, 6), round(Sam_Var, 6)])\n",
    "    table.add_row([\"Standard deviation\", round(Pop_Std, 6), round(Sam_Std, 6)])\n",
    "    table.add_row([\"Known population deviation\", 1, 1])\n",
    "    table.add_row([\"Difference between calculated and known standard deviation\", round(Pop_Std - 1, 6), round(Sam_Std - 1, 6)])\n",
    "    print(table)\n",
    "\n",
    "# Calculate the population and standard deviation\n",
    "Sample_size = [5, 10, 50, 100, 1000, 10000, 100000, 1000000, 10000000]          # Number of variables in list\n",
    "\n",
    "for i in range(len(Sample_size)):                                               # For evey sample size listed above\n",
    "    values_list = random.normal(0, 1, Sample_size[i])                           # Create a random list of 100000 values with a mean of 0, and a standard deviation of 1\n",
    "    \n",
    "    if i == 1:                                                                  # For sample size 10\n",
    "        values_list_10 = values_list                                            # Needed to show Excel calculations\n",
    "\n",
    "    Pop_Std, Sam_Std = std_list(values_list, Sample_size[i])                    # Pass data to the std_list function, and set the returned values\n",
    "\n",
    "    if abs(Pop_Std - 1) < abs(Sam_Std - 1):                                     # Check which standard deviation is closer to 1, and pass judgement\n",
    "        print(\"Population standard deviation formula is a better estimator of the actual population standard deviation, for this sample.\")\n",
    "    \n",
    "    else:\n",
    "        print(\"Sample standard deviation formula is a better estimator of the actual population statand deviation, for this sample.\")\n",
    "    \n",
    "    print(\"______________________________________________________________________________________________________________________________\")\n",
    "    print()\n",
    "    print()"
   ]
  },
  {
   "cell_type": "markdown",
   "metadata": {},
   "source": [
    "### Discussion\n",
    "There are three noticeable things that can be gleaned from the samples taken above.\n",
    "\n",
    "1) For samples where the sample's standard deviation, using both the population or sample standard deviation formula, is less than 1, the sample standard deviation calculation is always closer to the actual known mean (1) for the population. This suggests that for these sample sizes, the sample standard deviation formula is a a more accurate estimator of the actual standard deviation of the population.\n",
    "\n",
    "2) The contrary is true for samples whos standard deviations are greater than 1. In these cases, the population standard deviation formula provides a better estimate of the actual standard deviation in the population, than the sample standard deviation formula. This is largely due to the fact that the denominator in the population standard deviation formula produces a smaller deviation value than the sample deviation formula, meaning that it will be closer to 1.\n",
    "\n",
    "3) As the sample sizes increase, the impact of the Bessel's Correction reduces the difference in the standard deviations produced using the two formulae. This is due to the -1 correction being a 20% correction when there is 5 samples are taken to 0.00001% when 10 million samples are taken. As can be seen above, for sample sizes above 1 million, the results produced are identical at 6 decimal places, and for sample sizes above 1,000 the formulae diverge only at the 4th decimal place (i.e less than 1/100 of a percentage point).\n",
    "\n",
    "### Excel check"
   ]
  },
  {
   "cell_type": "code",
   "execution_count": 40,
   "metadata": {},
   "outputs": [
    {
     "name": "stdout",
     "output_type": "stream",
     "text": [
      "Table for 10 sample data set\n",
      "\n",
      "     Values      Mean  Variance\n",
      "0 -0.977278  0.305373  1.645192\n",
      "1  0.950088  0.305373  0.415658\n",
      "2 -0.151357  0.305373  0.208602\n",
      "3 -0.103219  0.305373  0.166947\n",
      "4  0.410599  0.305373  0.011072\n",
      "5  0.144044  0.305373  0.026027\n",
      "6  1.454274  0.305373  1.319973\n",
      "7  0.761038  0.305373  0.207631\n",
      "8  0.121675  0.305373  0.033745\n",
      "9  0.443863  0.305373  0.019180\n",
      "\n",
      "+------------------------------------------------------------+------------+----------+\n",
      "|                                                            | Population |  Sample  |\n",
      "+------------------------------------------------------------+------------+----------+\n",
      "|                        Sample size                         |     10     |    10    |\n",
      "|                   Denominator (N, n - 1)                   |     10     |    9     |\n",
      "|                      Sum of variances                      |  4.054028  | 4.054028 |\n",
      "|                     Ave. of variances                      |  0.405403  | 0.450448 |\n",
      "|                     Standard deviation                     |  0.636712  | 0.671154 |\n",
      "|                  Excel standard deviation                  |  0.636712  | 0.671154 |\n",
      "| Difference between calculated and Excel standard deviation |    0.0     |   0.0    |\n",
      "|         Difference from actual standard deviation          |  -0.36329  | -0.32885 |\n",
      "+------------------------------------------------------------+------------+----------+\n"
     ]
    }
   ],
   "source": [
    "# Check to show that the 10 variable sample set is the same as that given for Excel\n",
    "\n",
    "def sample_10(values_list_10):\n",
    "    mean_of_values_list = np.mean(values_list_10)                               # Determine the mean of the list (should be zero, but will vary depending on the sample selected)\n",
    "\n",
    "    list_df = pd.DataFrame(values_list_10, columns = [\"Values\"])                # Create a datafram with the variable list as the only column\n",
    "    list_df[\"Mean\"] = list_df[\"Values\"].mean()                                  # Create a new column populated with the mean of the variable\n",
    "    list_df[\"Variance\"] = ((list_df[\"Values\"] - list_df[\"Mean\"])**2)            # Determine the variance for each row as square of the variable less the mean\n",
    "\n",
    "    Pop_Std_10 = np.sqrt(sum(list_df[\"Variance\"]) / 10)                         # Determine the population standard deviation as the square root of the sum of the variances, divided by the sample size\n",
    "    Sam_Std_10 = np.sqrt(sum(list_df[\"Variance\"]) / 9)                          # Determine the sample standard deviation as the square root of the sum of the variances, divided by the sample size - 1\n",
    "\n",
    "    # Create the same table as above in the Excel checker, using PrettyTable\n",
    "    table = PrettyTable([\"\",\"Population\",\"Sample\"])    \n",
    "    table.add_row([\"Sample size\", len(values_list_10), len(values_list_10)])\n",
    "    table.add_row([\"Denominator (N, n - 1)\", len(values_list_10), len(values_list_10)-1])\n",
    "    table.add_row([\"Sum of variances\", round(sum(list_df[\"Variance\"]), 6), round(sum(list_df[\"Variance\"]), 6)])\n",
    "    table.add_row([\"Ave. of variances\", round(sum(list_df[\"Variance\"]) / len(values_list_10), 6), round(sum(list_df[\"Variance\"]) / (len(values_list_10)-1), 6)])\n",
    "    table.add_row([\"Standard deviation\", round(Pop_Std_10, 6), round(Sam_Std_10, 6)])\n",
    "    table.add_row([\"Excel standard deviation\", \"0.636712\", \"0.671154\"]) \n",
    "    table.add_row([\"Difference between calculated and Excel standard deviation\", round(Pop_Std_10 - 0.636712, 6), abs(round(Sam_Std_10 - 0.671154, 6))])\n",
    "    table.add_row([\"Difference from actual standard deviation\", round(Pop_Std_10 - 1, 5), round(Sam_Std_10 - 1, 5)])\n",
    "\n",
    "    print(\"Table for 10 sample data set\")\n",
    "    print()\n",
    "    print(list_df)                                                              # Print the data frame\n",
    "    print()\n",
    "    print(table)                                                                # Print the table\n",
    "    \n",
    "sample_10(values_list_10)                                                       # Pass the sample size 10 values to the sample_10 function"
   ]
  },
  {
   "cell_type": "markdown",
   "metadata": {
    "extensions": {
     "jupyter_dashboards": {
      "version": 1,
      "views": {
       "grid_default": {},
       "report_default": {
        "hidden": false
       }
      }
     }
    }
   },
   "source": [
    "#### Excel calcualtions replicates from above\n",
    "\n",
    "|Row|Values|Mean|(Variances|\n",
    "|:--|--:|--:|--:|\n",
    "|1|-0.977278|0.3054|1.645192|\n",
    "|2|0.950088|0.3054|0.415658|\n",
    "|3|-0.151357|0.3054|0.208602|\n",
    "|4|-0.103219|0.3054|0.166947|\n",
    "|5|0.410599|0.3054|0.011072|\n",
    "|6|0.144044|0.3054|0.026027|\n",
    "|7|1.454274|0.3054|1.319973|\n",
    "|8|0.761038|0.3054|0.207631|\n",
    "|9|0.121675|0.3054|0.033745|\n",
    "|10|0.443863|0.3054|0.019180|\n",
    "\n",
    "\n",
    "||Population|Sample|\n",
    "|:--|:--:|:--:|\n",
    "|Sample size|10|10|\n",
    "|Denominator (N, n – 1)|10|9|\n",
    "|Sum of variances|4.054028|4.054028|\n",
    "|Ave. of variances|0.405403|0.450448|\n",
    "|Standard deviation|0.636712|0.671154|\n",
    "|Excel standard deviation|0.636712|0.671154|\n",
    "|Difference between calculated and Excel standard deviation|0|0|\n",
    "|Difference from actual standard deviation|-0.36329|-0.32885|\n",
    "\n",
    "### Excel discussion\n",
    "There is not discernible difference, at 6 decimal places, between the results of the population and sample standard deviations produced by Excel and Python. From this, we can coonclude that Excel applies the same methods, for calculating the standard deviations for samples and populations, that Python does (or at least similar methods that produce the same results.\n",
    "\n",
    "### Conclusion\n",
    "As we have seen, the sample standard deviation formula is a better estimator of the standard deviation in a population, when the deviation is below the mean (if known). However, when the sample standard deviation produces a result larger than the mean, the population standard deviation formula is a better estimator of the standard deviation in the a population. This is due to the size of the denominator used.\n",
    "\n",
    "However, it should be noted that as the sample sizes being examined increase, the Bessel's Correction (-1) become less relevant, and the sample and population standard deviation converge. Is is largely due to the sample being a larger percentage of the overall population being measured (i.e. 1,000 people in 100,000,000 is 1 in 10,000, while 10,000,000 in 100,000,000 is 1 in 10). After a certain sample size, the use of either formula will produce the same results to at least 6 decimal places.\n",
    "\n",
    "From the above, it is clear that the formula to be used for calculating the standard deviation will be determined by the sizes of the samples being tested, as well as the size of the overall population.\n",
    "\n",
    "\n",
    "## Bibliography for task 3\n",
    "* Emory - Oxford College, 2020. Bessel's Correction. [Online] \n",
    "Available at: http://mathcenter.oxford.emory.edu/site/math117/besselCorrection/\n",
    "[Accessed 4 December 2020].\n",
    "\n",
    "\n",
    "* Flom, P., 2020. Peter Flom's statistics 101: Statistical measures of spread. [Online] \n",
    "Available at: http://statisticalanalysisconsulting.com/statistical-measures-of-spread/\n",
    "[Accessed 4 December 2020].\n",
    "\n",
    "\n",
    "* Hall, B., 2020. The Reasoning Behind Bessel’s Correction: n-1. [Online] \n",
    "Available at: https://towardsdatascience.com/the-reasoning-behind-bessels-correction-n-1-eeea25ec9bc9\n",
    "[Accessed 4 December 2020].\n",
    "\n",
    "\n",
    "* Hayes, A., 2020. Empirical Rule. [Online] \n",
    "Available at: https://www.investopedia.com/terms/e/empirical-rule.asp\n",
    "[Accessed 4 December 2020].\n",
    "\n",
    "\n",
    "* Investopedia.com, 2020. Standard Deviation vs. Variance: What's the Difference?. [Online] \n",
    "Available at: https://www.investopedia.com/ask/answers/021215/what-difference-between-standard-deviation-and-variance.asp\n",
    "[Accessed 4 December 2020].\n",
    "\n",
    "\n",
    "* K., B., 2015. What is the difference between the population standard deviation and the sample standard deviation?. [Online] \n",
    "Available at: https://socratic.org/questions/what-is-the-difference-between-the-population-standard-deviation-and-the-sample-\n",
    "[Accessed 4 December 2020].\n",
    "\n",
    "\n",
    "* Khan Academy, 2020. Population and sample standard deviation review. [Online] \n",
    "Available at: https://www.khanacademy.org/math/statistics-probability/summarizing-quantitative-data/variance-standard-deviation-sample/a/population-and-sample-standard-deviation-review\n",
    "[Accessed 4 December 2020].\n",
    "\n",
    "\n",
    "* Laerd Statistics, 2020. Standard Deviation. [Online] \n",
    "Available at: http://statisticalanalysisconsulting.com/statistical-measures-of-spread/\n",
    "[Accessed 4 December 2020].\n",
    "\n",
    "\n",
    "* Stephanie, 2018. Bessel’s Correction: Why Use N-1 For Variance/Standard Deviation?. [Online] \n",
    "Available at: https://www.statisticshowto.com/bessels-correction/\n",
    "[Accessed 4 December 2020].\n",
    "\n",
    "\n",
    "* Taylor, C., 2020. Differences Between Population and Sample Standard Deviations.. [Online] \n",
    "Available at: Differences Between Population and Sample Standard Deviations\n",
    "[Accessed 4 December 2020].\n",
    "\n",
    "\n",
    "* University of Leicester, 2020. The Standard Deviation. [Online] \n",
    "Available at: https://www.le.ac.uk/oerresources/ssds/numeracyskills/page_17.htm\n",
    "[Accessed 4 December 2020]."
   ]
  },
  {
   "cell_type": "markdown",
   "metadata": {},
   "source": [
    "# Assessment 4:\n",
    "## k-means clustering\n",
    "\n",
    "### Requirements\n",
    "Use scikit-learn to apply k-means clustering to Fisher’s famous Iris data set. You will easily obtain a copy of the data set online. Explain in a Markdown cell how your code works and how accurate it might be, and then explain how your model could be used to make predictions of species of Iris.\n",
    "\n"
   ]
  },
  {
   "cell_type": "code",
   "execution_count": 41,
   "metadata": {},
   "outputs": [
    {
     "name": "stdout",
     "output_type": "stream",
     "text": [
      "                Sepal_length  Sepal_width  Petal_length  Petal_width\n",
      "Class                                                               \n",
      "Iris-setosa              5.1          3.5           1.4          0.2\n",
      "Iris-setosa              4.9          3.0           1.4          0.2\n",
      "Iris-setosa              4.7          3.2           1.3          0.2\n",
      "Iris-setosa              4.6          3.1           1.5          0.2\n",
      "Iris-setosa              5.0          3.6           1.4          0.2\n",
      "...                      ...          ...           ...          ...\n",
      "Iris-virginica           6.7          3.0           5.2          2.3\n",
      "Iris-virginica           6.3          2.5           5.0          1.9\n",
      "Iris-virginica           6.5          3.0           5.2          2.0\n",
      "Iris-virginica           6.2          3.4           5.4          2.3\n",
      "Iris-virginica           5.9          3.0           5.1          1.8\n",
      "\n",
      "[150 rows x 4 columns]\n"
     ]
    }
   ],
   "source": [
    "import pandas as pd\n",
    "import matplotlib.pyplot as plt\n",
    "import numpy as np\n",
    "from pandas.plotting import scatter_matrix\n",
    "\n",
    "# Load digits dataset\n",
    "url = \"https://raw.githubusercontent.com/jbrownlee/Datasets/master/iris.csv\"            # URL of data source being used\n",
    "name = [\"Sepal_length\", \"Sepal_width\", \"Petal_length\", \"Petal_width\", \"Class\"]          # Headers of rows, as data source does not contain any\n",
    "iris_ds = pd.read_csv(url, names=name)                                                  # Loading of data set to \"iris_ds\"\n",
    "\n",
    "# Force conversion of values that look like number to numbers\n",
    "cols=iris_ds.columns.drop(\"Class\")\n",
    "iris_ds[cols]=iris_ds[cols].apply(pd.to_numeric, errors=\"coerce\")                       \n",
    "\n",
    "# Set the indexing column to Class\n",
    "iris_ds = iris_ds.set_index(\"Class\")\n",
    "\n",
    "print(iris_ds)"
   ]
  },
  {
   "cell_type": "markdown",
   "metadata": {},
   "source": [
    "### Conclusion\n",
    "## Bibliography for task 4"
   ]
  }
 ],
 "metadata": {
  "extensions": {
   "jupyter_dashboards": {
    "activeView": "grid_default",
    "version": 1,
    "views": {
     "grid_default": {
      "cellMargin": 10,
      "defaultCellHeight": 20,
      "maxColumns": 12,
      "name": "grid",
      "type": "grid"
     },
     "report_default": {
      "name": "report",
      "type": "report"
     }
    }
   }
  },
  "kernelspec": {
   "display_name": "Python 3",
   "language": "python",
   "name": "python3"
  },
  "language_info": {
   "codemirror_mode": {
    "name": "ipython",
    "version": 3
   },
   "file_extension": ".py",
   "mimetype": "text/x-python",
   "name": "python",
   "nbconvert_exporter": "python",
   "pygments_lexer": "ipython3",
   "version": "3.7.9"
  }
 },
 "nbformat": 4,
 "nbformat_minor": 4
}
