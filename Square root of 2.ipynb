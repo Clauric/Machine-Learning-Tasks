{
 "cells": [
  {
   "cell_type": "markdown",
   "metadata": {},
   "source": [
    "# Assessment 1:\n",
    "## Get the square root of 2 and display to 100 decimal places\n",
    "\n",
    "\n",
    "### Option 1: Newton Raphson method"
   ]
  },
  {
   "cell_type": "code",
   "execution_count": 6,
   "metadata": {
    "scrolled": false
   },
   "outputs": [
    {
     "name": "stdout",
     "output_type": "stream",
     "text": [
      "Square root 2 to 100 decimal places (Newton-Raphson method): \n",
      " 1.414213562373095048801688724\n",
      "Time taken to run: 0:00:00\n"
     ]
    }
   ],
   "source": [
    "import decimal as Dec\n",
    "import datetime as dt\n",
    "\n",
    "Time_1 = dt.datetime.now()\n",
    "# Dec.getcontext().prec = 100\n",
    "\n",
    "Number = Dec.Decimal(2)\n",
    "bStart = 1                                                                  # Start value is 1\n",
    "zStart = 1                                                                  # Start value is 1 (x0)\n",
    "cFinal = 0                                                                  # Variable to continue/end while loop\n",
    "\n",
    "aCount = 0                                                                  # Iteration count\n",
    "yNewNum = 0                                                                 # New value of estimate (x1)\n",
    "xRoot = 0                                                                   # Used to transfer values between yNewNum and zStart\n",
    "\n",
    "while cFinal != 1:                                                          # While the difference between zStart and yNewNum is greater than 0.0000001 (7 decimal places)\n",
    "    yNewNum = (zStart + (Number / zStart)) / 2                              # x1 = (x0 + (S/x0)) / 2 \n",
    "    zStart = yNewNum                                                        # Replace the value x0 with the value of x1\n",
    "    yNewNum = xRoot                                                         # Replace the value of x1 with the transfer value\n",
    "\n",
    "    if abs(((zStart - xRoot) / zStart)) < (1/(100**100)):                   # When there is no significant change in the 100^100 decimal place\n",
    "        cFinal = 1                                                          # Switch off continuance veriable\n",
    "          \n",
    "    xRoot = zStart                                                          # Replace the transfer value with x0\n",
    "\n",
    "    aCount += 1                                                             # aCount iterates by 1\n",
    "\n",
    "print(\"Square root 2 to 100 decimal places (Newton-Raphson method): \\n\", Dec.Decimal(zStart))\n",
    "\n",
    "Time_2 = dt.datetime.now()\n",
    "print(\"Time taken to run:\", (Time_2-Time_1))\n"
   ]
  },
  {
   "cell_type": "markdown",
   "metadata": {},
   "source": [
    "### Option 2: Alternative method (function)\n",
    "Soure: https://rosettacode.org/wiki/Integer_roots#Python"
   ]
  },
  {
   "cell_type": "code",
   "execution_count": 2,
   "metadata": {},
   "outputs": [
    {
     "name": "stdout",
     "output_type": "stream",
     "text": [
      "Square root 2 to 100 decimal places:\n",
      "1.4142135623730950488016887242096980785696718753769480731766797379907324784621070388503875343276415727\n"
     ]
    }
   ],
   "source": [
    "def root(a, b):\n",
    "    if b < 2:\n",
    "        return b\n",
    "    a1 = a - 1\n",
    "    c = 1\n",
    "    d = (a1 * c + b // (c ** a1)) // a\n",
    "    e = (a1 * d + b // (d ** a1)) // a\n",
    "    while c not in (d, e):\n",
    "        c, d, e = d, e, (a1 * e + b // (e ** a1)) // a\n",
    "    return min(d, e)\n",
    "\n",
    "result = str(root(2, 2 * 100 ** 100))\n",
    "formatted_result = f'{result[0]}.{result[1:]}'\n",
    "print(\"Square root 2 to 100 decimal places:\")\n",
    "print(formatted_result)\n",
    "                                                                 "
   ]
  },
  {
   "cell_type": "markdown",
   "metadata": {},
   "source": [
    "### Option 3: Subtraction method\n",
    "Source: http://www.afjarvis.staff.shef.ac.uk/maths/jarvisspec02.pdf\n",
    "https://www.mathblog.dk/project-euler-80-digits-irrational-square-roots/\n",
    "\n",
    "Square Roots by Subtraction\n",
    "FRAZER JARVIS\n",
    "pages 119 - 122\n",
    "Mathematical Spectrum 2004/2005 Volume 37 Number 3\n",
    "\n",
    "Japanese approach. Slower than Newton-Raphson.\n",
    "Newton-Raphson takes 8 steps to run, in near instaneous time.\n",
    "Subtraction method takes 576 iterations, and up to 500ths of a second to run"
   ]
  },
  {
   "cell_type": "code",
   "execution_count": 19,
   "metadata": {},
   "outputs": [
    {
     "name": "stdout",
     "output_type": "stream",
     "text": [
      "Square root 2 to 100 decimal places:\n",
      "1.4142135623730950488016887242096980785696718753769480731766797379907324784621070388503875343276415727\n"
     ]
    }
   ],
   "source": [
    "def sub_root(a, b):                                     # Create a function to import values of a and b.\n",
    "    while len(str(b)) <= 102:                           # While the string length of b is less than 101 (1 integter, plus the 101 significant decimal place).\n",
    "\n",
    "        if a >= b:                                      # If input \"a\" is greater than or equal input \"b\".\n",
    "            a = a - b                                   # Set value of \"a\" to be \"a\" minus \"b\".\n",
    "            b = b + 10                                  # Set value of \"b\" to be \"b\" + 10.\n",
    "\n",
    "        elif a < b:                                     # If input \"a\" is less than input \"b\".\n",
    "            a = a * 100                                 # Multiply \"a\" by 100.\n",
    "            c = len(str(b))-1                           # Set the value \"c\" to be the string length of \"b\" minus 1.\n",
    "            d = str(b)                                  # Set the value \"d\" to be the string \"b\".\n",
    "            e = int(d[:c] + \"0\" + d[c:])                # Set the value of \"e\" to be the first \"c\" number of characters of the string \"d\".\n",
    "                                                        # concatenated with a \"0\" and finished with the last digit of the string \"d\".\n",
    "            b = e                                       # Set the value of \"b\" to be the same as \"e\".\n",
    "\n",
    "        return sub_root(a, b)                           # Return the value to the function to reprocess.\n",
    "\n",
    "    return b                                            # Return the value for \"b\" when the above while loop is completed.\n",
    "\n",
    "Number = 2                                              # Number whose square root is to be determined.\n",
    "SQRT = str(sub_root(Number * 5, 5))                     # Set the value of \"SQRT\" to be the string extracted from the function \"sub_root\".\n",
    "formatted_SQRT = f'{SQRT[0]}.{SQRT[1:101]}'             # Set the value of \"format_SQRT to be the value of \"SQRT\" with a decimal place after the 1st digit in the string.\n",
    "print(\"Square root 2 to 100 decimal places:\")           # Print out the text.\n",
    "print(formatted_SQRT)                                   # Print the value of \"format_SQRT\" to 100 decimal places."
   ]
  },
  {
   "cell_type": "markdown",
   "metadata": {},
   "source": [
    "Actual square root of 2:\n",
    "\n",
    "1.4142135623730950488016887242096980785696718753769480731766797379907324784621070388503875343276415727\n",
    "\n",
    "https://apod.nasa.gov/htmltest/gifcity/sqrt2.1mil\n",
    "The Square Root of Two to 1 Million Digits\n",
    "Robert Nemiroff and Jerry Bonnell \n"
   ]
  },
  {
   "cell_type": "code",
   "execution_count": 4,
   "metadata": {},
   "outputs": [
    {
     "name": "stdout",
     "output_type": "stream",
     "text": [
      "475\n"
     ]
    }
   ],
   "source": [
    "def sum_digits(digit):\n",
    "    return sum(int(x) for x in digit if x.isdigit())\n",
    "\n",
    "print(sum_digits(SQRT[:100]))\n",
    "\n",
    "# https://stackoverflow.com/a/14550071/11485706\n",
    "# Óscar López\n",
    "# Jan 27 '13 at 17:32"
   ]
  },
  {
   "cell_type": "markdown",
   "metadata": {},
   "source": [
    "https://projecteuler.net/problem=80\n",
    "\n",
    "Square root digital expansion\n",
    "Show HTML problem content \n",
    "Problem 80\n",
    "\n",
    "It is well known that if the square root of a natural number is not an integer, then it is irrational. The decimal expansion of such square roots is infinite without any repeating pattern at all.\n",
    "\n",
    "The square root of two is 1.41421356237309504880..., and the digital sum of the first one hundred decimal digits is 475.\n",
    "\n",
    "For the first one hundred natural numbers, find the total of the digital sums of the first one hundred decimal digits for all the irrational square roots."
   ]
  },
  {
   "cell_type": "markdown",
   "metadata": {},
   "source": [
    "1.14 Decimals, Floats, and Floating Point Arithmetic. http://anh.cs.luc.edu/python/hands-on/3.1/handsonHtml/float.html\n",
    "Hands-on-Python Tutorial\n",
    "© Copyright 2019, Dr. Andrew N. Harrington. Last updated on Jan 05, 2020. Created using Sphinx 1.3.1+.\n",
    "October 3rd, 2020"
   ]
  },
  {
   "cell_type": "markdown",
   "metadata": {},
   "source": [
    "15. Floating Point Arithmetic: Issues and Limitations\n",
    "The Python Tutorial\n",
    "© Copyright 2001-2020, Python Software Foundation.\n",
    "The Python Software Foundation is a non-profit corporation. Please donate.\n",
    "\n",
    "Oct 08, 2020"
   ]
  },
  {
   "cell_type": "code",
   "execution_count": 5,
   "metadata": {},
   "outputs": [
    {
     "ename": "SyntaxError",
     "evalue": "invalid syntax (<ipython-input-5-479b27e948fe>, line 1)",
     "output_type": "error",
     "traceback": [
      "\u001b[1;36m  File \u001b[1;32m\"<ipython-input-5-479b27e948fe>\"\u001b[1;36m, line \u001b[1;32m1\u001b[0m\n\u001b[1;33m    Period of the Continued Fraction of √n\u001b[0m\n\u001b[1;37m            ^\u001b[0m\n\u001b[1;31mSyntaxError\u001b[0m\u001b[1;31m:\u001b[0m invalid syntax\n"
     ]
    }
   ],
   "source": [
    "Period of the Continued Fraction of √n\n",
    "Marius Beceanu\n",
    "February 5, 2003\n",
    "https://web.archive.org/web/20151221205104/http://web.math.princeton.edu/mathlab/jr02fall/Periodicity/mariusjp.pdf"
   ]
  }
 ],
 "metadata": {
  "kernelspec": {
   "display_name": "Python 3",
   "language": "python",
   "name": "python3"
  },
  "language_info": {
   "codemirror_mode": {
    "name": "ipython",
    "version": 3
   },
   "file_extension": ".py",
   "mimetype": "text/x-python",
   "name": "python",
   "nbconvert_exporter": "python",
   "pygments_lexer": "ipython3",
   "version": "3.7.9"
  }
 },
 "nbformat": 4,
 "nbformat_minor": 4
}
