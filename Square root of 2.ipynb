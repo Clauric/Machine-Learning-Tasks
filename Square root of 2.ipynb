{
 "cells": [
  {
   "cell_type": "markdown",
   "metadata": {},
   "source": [
    "# Assessment 1:\n",
    "## Get the square root of 2 and display to 100 decimal places\n",
    "\n",
    "\n",
    "### Option 1: Newton Raphson method"
   ]
  },
  {
   "cell_type": "code",
   "execution_count": 55,
   "metadata": {
    "scrolled": false
   },
   "outputs": [
    {
     "name": "stdout",
     "output_type": "stream",
     "text": [
      "Square root 2 to 100 decimal places (Newton-Raphson method): \n",
      " 1.414213562373095048801688724209698078569671875376948073176679737990732478462107038850387534327641572\n",
      "Time taken to run: 0:00:00\n"
     ]
    }
   ],
   "source": [
    "import decimal as Dec\n",
    "import datetime as dt\n",
    "\n",
    "Time_1 = dt.datetime.now()\n",
    "Dec.getcontext().prec = 100\n",
    "\n",
    "Number = Dec.Decimal(2)\n",
    "bStart = 1                                                                  # Start value is 1\n",
    "zStart = 1                                                                  # Start value is 1 (x0)\n",
    "cFinal = 0                                                                  # Variable to continue/end while loop\n",
    "\n",
    "aCount = 0                                                                  # Iteration count\n",
    "yNewNum = 0                                                                 # New value of estimate (x1)\n",
    "xRoot = 0                                                                   # Used to transfer values between yNewNum and zStart\n",
    "\n",
    "while cFinal != 1:                                                          # While the difference between zStart and yNewNum is greater than 0.0000001 (7 decimal places)\n",
    "    yNewNum = (zStart + (Number / zStart)) / 2                              # x1 = (x0 + (S/x0)) / 2 \n",
    "    zStart = yNewNum                                                        # Replace the value x0 with the value of x1\n",
    "    yNewNum = xRoot                                                         # Replace the value of x1 with the transfer value\n",
    "\n",
    "    if abs(((zStart - xRoot) / zStart)) < (1/(100**100)):                   # When there is no significant change in the 100^100 decimal place\n",
    "        cFinal = 1                                                          # Switch off continuance veriable\n",
    "          \n",
    "    xRoot = zStart                                                          # Replace the transfer value with x0\n",
    "\n",
    "    aCount += 1                                                             # aCount iterates by 1\n",
    "\n",
    "print(\"Square root 2 to 100 decimal places (Newton-Raphson method): \\n\", Dec.Decimal(zStart))\n",
    "\n",
    "Time_2 = dt.datetime.now()\n",
    "print(\"Time taken to run:\", (Time_2-Time_1)\n"
   ]
  },
  {
   "cell_type": "markdown",
   "metadata": {},
   "source": [
    "### Option 2: Alternative method (function)\n",
    "Soure: https://rosettacode.org/wiki/Integer_roots#Python"
   ]
  },
  {
   "cell_type": "code",
   "execution_count": null,
   "metadata": {},
   "outputs": [],
   "source": [
    "def root(a, b):\n",
    "    if b < 2:\n",
    "        return b\n",
    "    a1 = a - 1\n",
    "    c = 1\n",
    "    d = (a1 * c + b // (c ** a1)) // a\n",
    "    e = (a1 * d + b // (d ** a1)) // a\n",
    "    while c not in (d, e):\n",
    "        c, d, e = d, e, (a1 * e + b // (e ** a1)) // a\n",
    "    return min(d, e)\n",
    "\n",
    "result = str(root(2, 2 * 100 ** 100))\n",
    "formatted_result = f'{result[0]}.{result[1:]}'\n",
    "print(\"Square root 2 to 100 decimal places:\")\n",
    "print(formatted_result)\n",
    "                                                                 "
   ]
  },
  {
   "cell_type": "markdown",
   "metadata": {},
   "source": [
    "### Option 3: Subtraction method\n",
    "Source: http://www.afjarvis.staff.shef.ac.uk/maths/jarvisspec02.pdf\n",
    "\n",
    "Japanese approach. Slower than Newton-Raphson.\n",
    "Newton-Raphson takes 8 steps to run, in near instaneous time.\n",
    "Subtraction method takes 576 iterations, and up to 500ths of a second to run"
   ]
  },
  {
   "cell_type": "code",
   "execution_count": 63,
   "metadata": {},
   "outputs": [
    {
     "name": "stdout",
     "output_type": "stream",
     "text": [
      "Square root 2 to 100 decimal places:\n",
      "1.41421356237309504880168872420969807856967187537694807317667973799073247846210703885038753432764157205\n",
      "Time taken to run: 0:00:00.001029\n"
     ]
    }
   ],
   "source": [
    "Time_3 = dt.datetime.now()\n",
    "\n",
    "def sub_root(a, b):\n",
    "\n",
    "    while len(str(b)) <= 101:\n",
    "        if a > b:\n",
    "            a = a - b\n",
    "            b = b + 10\n",
    "            \n",
    "            return sub_root(a, b)\n",
    "\n",
    "        elif a < b:\n",
    "            a = a * 100\n",
    "            c = len(str(b))-1\n",
    "            d = str(b)\n",
    "            e = int(d[:c] + \"0\" + d[c:])\n",
    "            b = e\n",
    "\n",
    "            return sub_root(a, b)\n",
    "\n",
    "    return b\n",
    "\n",
    "Number = 2\n",
    "SQRT = str(sub_root(Number * 5, 5))\n",
    "formatted_SQRT = f'{SQRT[0]}.{SQRT[1:]}'\n",
    "print(\"Square root 2 to 100 decimal places:\")\n",
    "print(formatted_SQRT)\n",
    "Time_4 = dt.datetime.now()\n",
    "print(\"Time taken to run:\", Time_4 - Time_3)"
   ]
  },
  {
   "cell_type": "code",
   "execution_count": null,
   "metadata": {},
   "outputs": [],
   "source": []
  },
  {
   "cell_type": "code",
   "execution_count": null,
   "metadata": {},
   "outputs": [],
   "source": []
  }
 ],
 "metadata": {
  "kernelspec": {
   "display_name": "Python 3",
   "language": "python",
   "name": "python3"
  },
  "language_info": {
   "codemirror_mode": {
    "name": "ipython",
    "version": 3
   },
   "file_extension": ".py",
   "mimetype": "text/x-python",
   "name": "python",
   "nbconvert_exporter": "python",
   "pygments_lexer": "ipython3",
   "version": "3.7.9"
  }
 },
 "nbformat": 4,
 "nbformat_minor": 4
}
